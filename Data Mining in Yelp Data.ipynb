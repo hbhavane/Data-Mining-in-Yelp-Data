{
 "cells": [
  {
   "cell_type": "markdown",
   "metadata": {
    "id": "ChfpQBVn1SdU"
   },
   "source": [
    "# Case Study: Data Mining in Yelp Data\n",
    "\n",
    "\n",
    "HARSHAL BHAVANE "
   ]
  },
  {
   "cell_type": "markdown",
   "metadata": {
    "id": "befFffmo1SdY"
   },
   "source": [
    "\n",
    "Download the Yelp dataset in Case Study. \n",
    "\n",
    "**Here is an example of the data format:**\n",
    "### Business Objects\n",
    "\n",
    "Business objects contain basic information about local businesses. The fields are as follows:\n",
    "\n",
    "```json\n",
    "{\n",
    "  'type': 'business',\n",
    "  'business_id': (a unique identifier for this business),\n",
    "  'name': (the full business name),\n",
    "  'neighborhoods': (a list of neighborhood names, might be empty),\n",
    "  'full_address': (localized address),\n",
    "  'city': (city),\n",
    "  'state': (state),\n",
    "  'latitude': (latitude),\n",
    "  'longitude': (longitude),\n",
    "  'stars': (star rating, rounded to half-stars),\n",
    "  'review_count': (review count),\n",
    "  'photo_url': (photo url),\n",
    "  'categories': [(localized category names)]\n",
    "  'open': (is the business still open for business?),\n",
    "  'schools': (nearby universities),\n",
    "  'url': (yelp url)\n",
    "}\n",
    "```\n",
    "### Checkin Objects\n",
    "```json\n",
    "{\n",
    "    'type': 'checkin',\n",
    "    'business_id': (encrypted business id),\n",
    "    'checkin_info': {\n",
    "        '0-0': (number of checkins from 00:00 to 01:00 on all Sundays),\n",
    "        '1-0': (number of checkins from 01:00 to 02:00 on all Sundays),\n",
    "        ...\n",
    "        '14-4': (number of checkins from 14:00 to 15:00 on all Thursdays),\n",
    "        ...\n",
    "        '23-6': (number of checkins from 23:00 to 00:00 on all Saturdays)\n",
    "    }, # if there was no checkin for a hour-day block it will not be in the dict\n",
    "}\n",
    "```"
   ]
  },
  {
   "cell_type": "markdown",
   "metadata": {
    "id": "r7INb_yu1SdZ"
   },
   "source": [
    "# Problem: pick a data science problem that you plan to solve using Yelp Data\n",
    "\n",
    "* The problem should be important and interesting, which has a potential impact in some area.\n",
    "* The problem should be solvable using yelp data and data science solutions.\n",
    "\n",
    "Please briefly describe in the following cell: what problem are you trying to solve? why this problem is important and interesting?"
   ]
  },
  {
   "cell_type": "markdown",
   "metadata": {
    "id": "8EujUt1P1Sda"
   },
   "source": [
    "##Helping coustemers and businesses using the data \n",
    "\n",
    "Indeed, Yelp has become one of the most important sources of information for customers when it comes to choosing a restaurant to visit. Customers can read reviews from other people who have visited the restaurant before and see the overall rating of the restaurant. This information can help customers make an informed decision on where to eat and what to expect.\n",
    "\n",
    "For restaurant owners, Yelp can be a double-edged sword. Positive reviews and high ratings can attract more customers and increase revenue. On the other hand, negative reviews and low ratings can harm the restaurant's reputation and lead to a decrease in customers and revenue. Therefore, it is crucial for restaurant owners to understand what makes a restaurant receive good or bad reviews on Yelp and take action accordingly.\n",
    "\n",
    "To receive good reviews on Yelp, restaurants should focus on providing excellent customer service, serving high-quality food, maintaining a clean and comfortable environment, and responding to customer feedback promptly and professionally. These factors can help create a positive experience for customers and increase the likelihood of them leaving a positive review.\n",
    "\n",
    "On the other hand, restaurants that receive negative reviews on Yelp may need to improve their customer service, food quality, and overall experience. It is also important for restaurant owners to respond to negative reviews promptly and professionally, addressing the customer's concerns and taking steps to prevent similar issues from happening in the future.\n",
    "\n",
    "In conclusion, Yelp has become a critical tool for customers and restaurant owners alike. By understanding what makes a restaurant receive good or bad reviews on Yelp, restaurant owners can improve their business and provide a better experience for their customers, ultimately leading to increased revenue and success.\n",
    "\n"
   ]
  },
  {
   "cell_type": "markdown",
   "metadata": {
    "id": "48jE-6T81Sdb"
   },
   "source": [
    "# Data Collection/Processing: "
   ]
  },
  {
   "cell_type": "code",
   "execution_count": 1,
   "metadata": {
    "id": "omItoqAF1Sdc",
    "outputId": "4a88e704-fac1-4483-974d-7bec97e34f3d"
   },
   "outputs": [],
   "source": [
    "\n",
    "# import matplotlib.pyplot as plt\n",
    "# df['date'] = pd.to_datetime(df['date'])\n",
    "# df = df.set_index('date')\n",
    "# plt.plot(df['review'].resample('M').count())\n",
    "# plt.xlabel('Year')\n",
    "# plt.ylabel('Number of reviews')\n",
    "# plt.title('Number of reviews per month')\n",
    "# plt.show()\n",
    "\n",
    "\n",
    "\n"
   ]
  },
  {
   "cell_type": "code",
   "execution_count": 2,
   "metadata": {},
   "outputs": [],
   "source": [
    "import pandas as pd\n",
    "import numpy as np\n",
    "b_data = pd.read_json(\"yelp_academic_dataset_business.json\", lines=True)\n",
    "chk_data =  pd.read_json(\"yelp_academic_dataset_checkin.json\", lines=True)"
   ]
  },
  {
   "cell_type": "code",
   "execution_count": 3,
   "metadata": {},
   "outputs": [
    {
     "name": "stdout",
     "output_type": "stream",
     "text": [
      "shape of yelp business data (188593, 15)\n"
     ]
    },
    {
     "data": {
      "text/html": [
       "<div>\n",
       "<style scoped>\n",
       "    .dataframe tbody tr th:only-of-type {\n",
       "        vertical-align: middle;\n",
       "    }\n",
       "\n",
       "    .dataframe tbody tr th {\n",
       "        vertical-align: top;\n",
       "    }\n",
       "\n",
       "    .dataframe thead th {\n",
       "        text-align: right;\n",
       "    }\n",
       "</style>\n",
       "<table border=\"1\" class=\"dataframe\">\n",
       "  <thead>\n",
       "    <tr style=\"text-align: right;\">\n",
       "      <th></th>\n",
       "      <th>business_id</th>\n",
       "      <th>name</th>\n",
       "      <th>neighborhood</th>\n",
       "      <th>address</th>\n",
       "      <th>city</th>\n",
       "      <th>state</th>\n",
       "      <th>postal_code</th>\n",
       "      <th>latitude</th>\n",
       "      <th>longitude</th>\n",
       "      <th>stars</th>\n",
       "      <th>review_count</th>\n",
       "      <th>is_open</th>\n",
       "      <th>attributes</th>\n",
       "      <th>categories</th>\n",
       "      <th>hours</th>\n",
       "    </tr>\n",
       "  </thead>\n",
       "  <tbody>\n",
       "    <tr>\n",
       "      <th>0</th>\n",
       "      <td>Apn5Q_b6Nz61Tq4XzPdf9A</td>\n",
       "      <td>Minhas Micro Brewery</td>\n",
       "      <td></td>\n",
       "      <td>1314 44 Avenue NE</td>\n",
       "      <td>Calgary</td>\n",
       "      <td>AB</td>\n",
       "      <td>T2E 6L6</td>\n",
       "      <td>51.091813</td>\n",
       "      <td>-114.031675</td>\n",
       "      <td>4.0</td>\n",
       "      <td>24</td>\n",
       "      <td>1</td>\n",
       "      <td>{'BikeParking': 'False', 'BusinessAcceptsCredi...</td>\n",
       "      <td>Tours, Breweries, Pizza, Restaurants, Food, Ho...</td>\n",
       "      <td>{'Monday': '8:30-17:0', 'Tuesday': '11:0-21:0'...</td>\n",
       "    </tr>\n",
       "    <tr>\n",
       "      <th>1</th>\n",
       "      <td>AjEbIBw6ZFfln7ePHha9PA</td>\n",
       "      <td>CK'S BBQ &amp; Catering</td>\n",
       "      <td></td>\n",
       "      <td></td>\n",
       "      <td>Henderson</td>\n",
       "      <td>NV</td>\n",
       "      <td>89002</td>\n",
       "      <td>35.960734</td>\n",
       "      <td>-114.939821</td>\n",
       "      <td>4.5</td>\n",
       "      <td>3</td>\n",
       "      <td>0</td>\n",
       "      <td>{'Alcohol': 'none', 'BikeParking': 'False', 'B...</td>\n",
       "      <td>Chicken Wings, Burgers, Caterers, Street Vendo...</td>\n",
       "      <td>{'Friday': '17:0-23:0', 'Saturday': '17:0-23:0...</td>\n",
       "    </tr>\n",
       "    <tr>\n",
       "      <th>2</th>\n",
       "      <td>O8S5hYJ1SMc8fA4QBtVujA</td>\n",
       "      <td>La Bastringue</td>\n",
       "      <td>Rosemont-La Petite-Patrie</td>\n",
       "      <td>1335 rue Beaubien E</td>\n",
       "      <td>Montréal</td>\n",
       "      <td>QC</td>\n",
       "      <td>H2G 1K7</td>\n",
       "      <td>45.540503</td>\n",
       "      <td>-73.599300</td>\n",
       "      <td>4.0</td>\n",
       "      <td>5</td>\n",
       "      <td>0</td>\n",
       "      <td>{'Alcohol': 'beer_and_wine', 'Ambience': '{'ro...</td>\n",
       "      <td>Breakfast &amp; Brunch, Restaurants, French, Sandw...</td>\n",
       "      <td>{'Monday': '10:0-22:0', 'Tuesday': '10:0-22:0'...</td>\n",
       "    </tr>\n",
       "    <tr>\n",
       "      <th>3</th>\n",
       "      <td>bFzdJJ3wp3PZssNEsyU23g</td>\n",
       "      <td>Geico Insurance</td>\n",
       "      <td></td>\n",
       "      <td>211 W Monroe St</td>\n",
       "      <td>Phoenix</td>\n",
       "      <td>AZ</td>\n",
       "      <td>85003</td>\n",
       "      <td>33.449999</td>\n",
       "      <td>-112.076979</td>\n",
       "      <td>1.5</td>\n",
       "      <td>8</td>\n",
       "      <td>1</td>\n",
       "      <td>None</td>\n",
       "      <td>Insurance, Financial Services</td>\n",
       "      <td>None</td>\n",
       "    </tr>\n",
       "    <tr>\n",
       "      <th>4</th>\n",
       "      <td>8USyCYqpScwiNEb58Bt6CA</td>\n",
       "      <td>Action Engine</td>\n",
       "      <td></td>\n",
       "      <td>2005 Alyth Place SE</td>\n",
       "      <td>Calgary</td>\n",
       "      <td>AB</td>\n",
       "      <td>T2H 0N5</td>\n",
       "      <td>51.035591</td>\n",
       "      <td>-114.027366</td>\n",
       "      <td>2.0</td>\n",
       "      <td>4</td>\n",
       "      <td>1</td>\n",
       "      <td>{'BusinessAcceptsCreditCards': 'True'}</td>\n",
       "      <td>Home &amp; Garden, Nurseries &amp; Gardening, Shopping...</td>\n",
       "      <td>{'Monday': '8:0-17:0', 'Tuesday': '8:0-17:0', ...</td>\n",
       "    </tr>\n",
       "  </tbody>\n",
       "</table>\n",
       "</div>"
      ],
      "text/plain": [
       "              business_id                  name               neighborhood  \\\n",
       "0  Apn5Q_b6Nz61Tq4XzPdf9A  Minhas Micro Brewery                              \n",
       "1  AjEbIBw6ZFfln7ePHha9PA   CK'S BBQ & Catering                              \n",
       "2  O8S5hYJ1SMc8fA4QBtVujA         La Bastringue  Rosemont-La Petite-Patrie   \n",
       "3  bFzdJJ3wp3PZssNEsyU23g       Geico Insurance                              \n",
       "4  8USyCYqpScwiNEb58Bt6CA         Action Engine                              \n",
       "\n",
       "               address       city state postal_code   latitude   longitude  \\\n",
       "0    1314 44 Avenue NE    Calgary    AB     T2E 6L6  51.091813 -114.031675   \n",
       "1                       Henderson    NV       89002  35.960734 -114.939821   \n",
       "2  1335 rue Beaubien E   Montréal    QC     H2G 1K7  45.540503  -73.599300   \n",
       "3      211 W Monroe St    Phoenix    AZ       85003  33.449999 -112.076979   \n",
       "4  2005 Alyth Place SE    Calgary    AB     T2H 0N5  51.035591 -114.027366   \n",
       "\n",
       "   stars  review_count  is_open  \\\n",
       "0    4.0            24        1   \n",
       "1    4.5             3        0   \n",
       "2    4.0             5        0   \n",
       "3    1.5             8        1   \n",
       "4    2.0             4        1   \n",
       "\n",
       "                                          attributes  \\\n",
       "0  {'BikeParking': 'False', 'BusinessAcceptsCredi...   \n",
       "1  {'Alcohol': 'none', 'BikeParking': 'False', 'B...   \n",
       "2  {'Alcohol': 'beer_and_wine', 'Ambience': '{'ro...   \n",
       "3                                               None   \n",
       "4             {'BusinessAcceptsCreditCards': 'True'}   \n",
       "\n",
       "                                          categories  \\\n",
       "0  Tours, Breweries, Pizza, Restaurants, Food, Ho...   \n",
       "1  Chicken Wings, Burgers, Caterers, Street Vendo...   \n",
       "2  Breakfast & Brunch, Restaurants, French, Sandw...   \n",
       "3                      Insurance, Financial Services   \n",
       "4  Home & Garden, Nurseries & Gardening, Shopping...   \n",
       "\n",
       "                                               hours  \n",
       "0  {'Monday': '8:30-17:0', 'Tuesday': '11:0-21:0'...  \n",
       "1  {'Friday': '17:0-23:0', 'Saturday': '17:0-23:0...  \n",
       "2  {'Monday': '10:0-22:0', 'Tuesday': '10:0-22:0'...  \n",
       "3                                               None  \n",
       "4  {'Monday': '8:0-17:0', 'Tuesday': '8:0-17:0', ...  "
      ]
     },
     "execution_count": 3,
     "metadata": {},
     "output_type": "execute_result"
    }
   ],
   "source": [
    "print(\"shape of yelp business data\", b_data.shape)\n",
    "b_data.head()"
   ]
  },
  {
   "cell_type": "code",
   "execution_count": 4,
   "metadata": {
    "scrolled": true
   },
   "outputs": [
    {
     "data": {
      "text/plain": [
       "Index(['business_id', 'name', 'neighborhood', 'address', 'city', 'state',\n",
       "       'postal_code', 'latitude', 'longitude', 'stars', 'review_count',\n",
       "       'is_open', 'attributes', 'categories', 'hours'],\n",
       "      dtype='object')"
      ]
     },
     "execution_count": 4,
     "metadata": {},
     "output_type": "execute_result"
    }
   ],
   "source": [
    "b_data.columns"
   ]
  },
  {
   "cell_type": "code",
   "execution_count": 5,
   "metadata": {},
   "outputs": [
    {
     "name": "stdout",
     "output_type": "stream",
     "text": [
      "<class 'pandas.core.frame.DataFrame'>\n",
      "RangeIndex: 188593 entries, 0 to 188592\n",
      "Data columns (total 15 columns):\n",
      " #   Column        Non-Null Count   Dtype  \n",
      "---  ------        --------------   -----  \n",
      " 0   business_id   188593 non-null  object \n",
      " 1   name          188593 non-null  object \n",
      " 2   neighborhood  188593 non-null  object \n",
      " 3   address       188593 non-null  object \n",
      " 4   city          188593 non-null  object \n",
      " 5   state         188593 non-null  object \n",
      " 6   postal_code   188593 non-null  object \n",
      " 7   latitude      188587 non-null  float64\n",
      " 8   longitude     188587 non-null  float64\n",
      " 9   stars         188593 non-null  float64\n",
      " 10  review_count  188593 non-null  int64  \n",
      " 11  is_open       188593 non-null  int64  \n",
      " 12  attributes    162807 non-null  object \n",
      " 13  categories    188052 non-null  object \n",
      " 14  hours         143791 non-null  object \n",
      "dtypes: float64(3), int64(2), object(10)\n",
      "memory usage: 21.6+ MB\n"
     ]
    }
   ],
   "source": [
    "b_data.info()"
   ]
  },
  {
   "cell_type": "code",
   "execution_count": 6,
   "metadata": {},
   "outputs": [
    {
     "name": "stdout",
     "output_type": "stream",
     "text": [
      "shape of yelp business data after dropping nulls and checking duplicates-  (127442, 15)\n"
     ]
    },
    {
     "data": {
      "text/html": [
       "<div>\n",
       "<style scoped>\n",
       "    .dataframe tbody tr th:only-of-type {\n",
       "        vertical-align: middle;\n",
       "    }\n",
       "\n",
       "    .dataframe tbody tr th {\n",
       "        vertical-align: top;\n",
       "    }\n",
       "\n",
       "    .dataframe thead th {\n",
       "        text-align: right;\n",
       "    }\n",
       "</style>\n",
       "<table border=\"1\" class=\"dataframe\">\n",
       "  <thead>\n",
       "    <tr style=\"text-align: right;\">\n",
       "      <th></th>\n",
       "      <th>business_id</th>\n",
       "      <th>name</th>\n",
       "      <th>neighborhood</th>\n",
       "      <th>address</th>\n",
       "      <th>city</th>\n",
       "      <th>state</th>\n",
       "      <th>postal_code</th>\n",
       "      <th>latitude</th>\n",
       "      <th>longitude</th>\n",
       "      <th>stars</th>\n",
       "      <th>review_count</th>\n",
       "      <th>is_open</th>\n",
       "      <th>attributes</th>\n",
       "      <th>categories</th>\n",
       "      <th>hours</th>\n",
       "    </tr>\n",
       "  </thead>\n",
       "  <tbody>\n",
       "    <tr>\n",
       "      <th>0</th>\n",
       "      <td>Apn5Q_b6Nz61Tq4XzPdf9A</td>\n",
       "      <td>Minhas Micro Brewery</td>\n",
       "      <td></td>\n",
       "      <td>1314 44 Avenue NE</td>\n",
       "      <td>Calgary</td>\n",
       "      <td>AB</td>\n",
       "      <td>T2E 6L6</td>\n",
       "      <td>51.091813</td>\n",
       "      <td>-114.031675</td>\n",
       "      <td>4.0</td>\n",
       "      <td>24</td>\n",
       "      <td>1</td>\n",
       "      <td>{'BikeParking': 'False', 'BusinessAcceptsCredi...</td>\n",
       "      <td>Tours, Breweries, Pizza, Restaurants, Food, Ho...</td>\n",
       "      <td>{'Monday': '8:30-17:0', 'Tuesday': '11:0-21:0'...</td>\n",
       "    </tr>\n",
       "    <tr>\n",
       "      <th>1</th>\n",
       "      <td>AjEbIBw6ZFfln7ePHha9PA</td>\n",
       "      <td>CK'S BBQ &amp; Catering</td>\n",
       "      <td></td>\n",
       "      <td></td>\n",
       "      <td>Henderson</td>\n",
       "      <td>NV</td>\n",
       "      <td>89002</td>\n",
       "      <td>35.960734</td>\n",
       "      <td>-114.939821</td>\n",
       "      <td>4.5</td>\n",
       "      <td>3</td>\n",
       "      <td>0</td>\n",
       "      <td>{'Alcohol': 'none', 'BikeParking': 'False', 'B...</td>\n",
       "      <td>Chicken Wings, Burgers, Caterers, Street Vendo...</td>\n",
       "      <td>{'Friday': '17:0-23:0', 'Saturday': '17:0-23:0...</td>\n",
       "    </tr>\n",
       "    <tr>\n",
       "      <th>2</th>\n",
       "      <td>O8S5hYJ1SMc8fA4QBtVujA</td>\n",
       "      <td>La Bastringue</td>\n",
       "      <td>Rosemont-La Petite-Patrie</td>\n",
       "      <td>1335 rue Beaubien E</td>\n",
       "      <td>Montréal</td>\n",
       "      <td>QC</td>\n",
       "      <td>H2G 1K7</td>\n",
       "      <td>45.540503</td>\n",
       "      <td>-73.599300</td>\n",
       "      <td>4.0</td>\n",
       "      <td>5</td>\n",
       "      <td>0</td>\n",
       "      <td>{'Alcohol': 'beer_and_wine', 'Ambience': '{'ro...</td>\n",
       "      <td>Breakfast &amp; Brunch, Restaurants, French, Sandw...</td>\n",
       "      <td>{'Monday': '10:0-22:0', 'Tuesday': '10:0-22:0'...</td>\n",
       "    </tr>\n",
       "    <tr>\n",
       "      <th>4</th>\n",
       "      <td>8USyCYqpScwiNEb58Bt6CA</td>\n",
       "      <td>Action Engine</td>\n",
       "      <td></td>\n",
       "      <td>2005 Alyth Place SE</td>\n",
       "      <td>Calgary</td>\n",
       "      <td>AB</td>\n",
       "      <td>T2H 0N5</td>\n",
       "      <td>51.035591</td>\n",
       "      <td>-114.027366</td>\n",
       "      <td>2.0</td>\n",
       "      <td>4</td>\n",
       "      <td>1</td>\n",
       "      <td>{'BusinessAcceptsCreditCards': 'True'}</td>\n",
       "      <td>Home &amp; Garden, Nurseries &amp; Gardening, Shopping...</td>\n",
       "      <td>{'Monday': '8:0-17:0', 'Tuesday': '8:0-17:0', ...</td>\n",
       "    </tr>\n",
       "    <tr>\n",
       "      <th>5</th>\n",
       "      <td>45bWSZtniwPRiqlivpS8Og</td>\n",
       "      <td>The Coffee Bean &amp; Tea Leaf</td>\n",
       "      <td></td>\n",
       "      <td>20235 N Cave Creek Rd, Ste 1115</td>\n",
       "      <td>Phoenix</td>\n",
       "      <td>AZ</td>\n",
       "      <td>85024</td>\n",
       "      <td>33.671375</td>\n",
       "      <td>-112.030017</td>\n",
       "      <td>4.0</td>\n",
       "      <td>63</td>\n",
       "      <td>1</td>\n",
       "      <td>{'BikeParking': 'True', 'BusinessAcceptsCredit...</td>\n",
       "      <td>Coffee &amp; Tea, Food</td>\n",
       "      <td>{'Monday': '5:30-20:0', 'Tuesday': '5:30-20:0'...</td>\n",
       "    </tr>\n",
       "  </tbody>\n",
       "</table>\n",
       "</div>"
      ],
      "text/plain": [
       "              business_id                        name  \\\n",
       "0  Apn5Q_b6Nz61Tq4XzPdf9A        Minhas Micro Brewery   \n",
       "1  AjEbIBw6ZFfln7ePHha9PA         CK'S BBQ & Catering   \n",
       "2  O8S5hYJ1SMc8fA4QBtVujA               La Bastringue   \n",
       "4  8USyCYqpScwiNEb58Bt6CA               Action Engine   \n",
       "5  45bWSZtniwPRiqlivpS8Og  The Coffee Bean & Tea Leaf   \n",
       "\n",
       "                neighborhood                          address       city  \\\n",
       "0                                           1314 44 Avenue NE    Calgary   \n",
       "1                                                              Henderson   \n",
       "2  Rosemont-La Petite-Patrie              1335 rue Beaubien E   Montréal   \n",
       "4                                         2005 Alyth Place SE    Calgary   \n",
       "5                             20235 N Cave Creek Rd, Ste 1115    Phoenix   \n",
       "\n",
       "  state postal_code   latitude   longitude  stars  review_count  is_open  \\\n",
       "0    AB     T2E 6L6  51.091813 -114.031675    4.0            24        1   \n",
       "1    NV       89002  35.960734 -114.939821    4.5             3        0   \n",
       "2    QC     H2G 1K7  45.540503  -73.599300    4.0             5        0   \n",
       "4    AB     T2H 0N5  51.035591 -114.027366    2.0             4        1   \n",
       "5    AZ       85024  33.671375 -112.030017    4.0            63        1   \n",
       "\n",
       "                                          attributes  \\\n",
       "0  {'BikeParking': 'False', 'BusinessAcceptsCredi...   \n",
       "1  {'Alcohol': 'none', 'BikeParking': 'False', 'B...   \n",
       "2  {'Alcohol': 'beer_and_wine', 'Ambience': '{'ro...   \n",
       "4             {'BusinessAcceptsCreditCards': 'True'}   \n",
       "5  {'BikeParking': 'True', 'BusinessAcceptsCredit...   \n",
       "\n",
       "                                          categories  \\\n",
       "0  Tours, Breweries, Pizza, Restaurants, Food, Ho...   \n",
       "1  Chicken Wings, Burgers, Caterers, Street Vendo...   \n",
       "2  Breakfast & Brunch, Restaurants, French, Sandw...   \n",
       "4  Home & Garden, Nurseries & Gardening, Shopping...   \n",
       "5                                 Coffee & Tea, Food   \n",
       "\n",
       "                                               hours  \n",
       "0  {'Monday': '8:30-17:0', 'Tuesday': '11:0-21:0'...  \n",
       "1  {'Friday': '17:0-23:0', 'Saturday': '17:0-23:0...  \n",
       "2  {'Monday': '10:0-22:0', 'Tuesday': '10:0-22:0'...  \n",
       "4  {'Monday': '8:0-17:0', 'Tuesday': '8:0-17:0', ...  \n",
       "5  {'Monday': '5:30-20:0', 'Tuesday': '5:30-20:0'...  "
      ]
     },
     "execution_count": 6,
     "metadata": {},
     "output_type": "execute_result"
    }
   ],
   "source": [
    "b_data = b_data.dropna()\n",
    "print(\"shape of yelp business data after dropping nulls and checking duplicates- \", b_data.shape)\n",
    "b_data.head()"
   ]
  },
  {
   "cell_type": "code",
   "execution_count": 7,
   "metadata": {},
   "outputs": [
    {
     "data": {
      "text/plain": [
       "checkin_info    0\n",
       "type            0\n",
       "business_id     0\n",
       "dtype: int64"
      ]
     },
     "execution_count": 7,
     "metadata": {},
     "output_type": "execute_result"
    }
   ],
   "source": [
    "chk_data.isnull().sum()"
   ]
  },
  {
   "cell_type": "code",
   "execution_count": 8,
   "metadata": {},
   "outputs": [
    {
     "data": {
      "text/html": [
       "<div>\n",
       "<style scoped>\n",
       "    .dataframe tbody tr th:only-of-type {\n",
       "        vertical-align: middle;\n",
       "    }\n",
       "\n",
       "    .dataframe tbody tr th {\n",
       "        vertical-align: top;\n",
       "    }\n",
       "\n",
       "    .dataframe thead th {\n",
       "        text-align: right;\n",
       "    }\n",
       "</style>\n",
       "<table border=\"1\" class=\"dataframe\">\n",
       "  <thead>\n",
       "    <tr style=\"text-align: right;\">\n",
       "      <th></th>\n",
       "      <th>business_id</th>\n",
       "      <th>name</th>\n",
       "      <th>neighborhood</th>\n",
       "      <th>address</th>\n",
       "      <th>city</th>\n",
       "      <th>state</th>\n",
       "      <th>postal_code</th>\n",
       "      <th>latitude</th>\n",
       "      <th>longitude</th>\n",
       "      <th>stars</th>\n",
       "      <th>review_count</th>\n",
       "      <th>is_open</th>\n",
       "      <th>attributes</th>\n",
       "      <th>categories</th>\n",
       "      <th>hours</th>\n",
       "      <th>rating_type</th>\n",
       "    </tr>\n",
       "  </thead>\n",
       "  <tbody>\n",
       "    <tr>\n",
       "      <th>0</th>\n",
       "      <td>Apn5Q_b6Nz61Tq4XzPdf9A</td>\n",
       "      <td>Minhas Micro Brewery</td>\n",
       "      <td></td>\n",
       "      <td>1314 44 Avenue NE</td>\n",
       "      <td>Calgary</td>\n",
       "      <td>AB</td>\n",
       "      <td>T2E 6L6</td>\n",
       "      <td>51.091813</td>\n",
       "      <td>-114.031675</td>\n",
       "      <td>4.0</td>\n",
       "      <td>24</td>\n",
       "      <td>1</td>\n",
       "      <td>{'BikeParking': 'False', 'BusinessAcceptsCredi...</td>\n",
       "      <td>Tours, Breweries, Pizza, Restaurants, Food, Ho...</td>\n",
       "      <td>{'Monday': '8:30-17:0', 'Tuesday': '11:0-21:0'...</td>\n",
       "      <td>good</td>\n",
       "    </tr>\n",
       "    <tr>\n",
       "      <th>1</th>\n",
       "      <td>AjEbIBw6ZFfln7ePHha9PA</td>\n",
       "      <td>CK'S BBQ &amp; Catering</td>\n",
       "      <td></td>\n",
       "      <td></td>\n",
       "      <td>Henderson</td>\n",
       "      <td>NV</td>\n",
       "      <td>89002</td>\n",
       "      <td>35.960734</td>\n",
       "      <td>-114.939821</td>\n",
       "      <td>4.5</td>\n",
       "      <td>3</td>\n",
       "      <td>0</td>\n",
       "      <td>{'Alcohol': 'none', 'BikeParking': 'False', 'B...</td>\n",
       "      <td>Chicken Wings, Burgers, Caterers, Street Vendo...</td>\n",
       "      <td>{'Friday': '17:0-23:0', 'Saturday': '17:0-23:0...</td>\n",
       "      <td>good</td>\n",
       "    </tr>\n",
       "    <tr>\n",
       "      <th>2</th>\n",
       "      <td>O8S5hYJ1SMc8fA4QBtVujA</td>\n",
       "      <td>La Bastringue</td>\n",
       "      <td>Rosemont-La Petite-Patrie</td>\n",
       "      <td>1335 rue Beaubien E</td>\n",
       "      <td>Montréal</td>\n",
       "      <td>QC</td>\n",
       "      <td>H2G 1K7</td>\n",
       "      <td>45.540503</td>\n",
       "      <td>-73.599300</td>\n",
       "      <td>4.0</td>\n",
       "      <td>5</td>\n",
       "      <td>0</td>\n",
       "      <td>{'Alcohol': 'beer_and_wine', 'Ambience': '{'ro...</td>\n",
       "      <td>Breakfast &amp; Brunch, Restaurants, French, Sandw...</td>\n",
       "      <td>{'Monday': '10:0-22:0', 'Tuesday': '10:0-22:0'...</td>\n",
       "      <td>good</td>\n",
       "    </tr>\n",
       "    <tr>\n",
       "      <th>4</th>\n",
       "      <td>8USyCYqpScwiNEb58Bt6CA</td>\n",
       "      <td>Action Engine</td>\n",
       "      <td></td>\n",
       "      <td>2005 Alyth Place SE</td>\n",
       "      <td>Calgary</td>\n",
       "      <td>AB</td>\n",
       "      <td>T2H 0N5</td>\n",
       "      <td>51.035591</td>\n",
       "      <td>-114.027366</td>\n",
       "      <td>2.0</td>\n",
       "      <td>4</td>\n",
       "      <td>1</td>\n",
       "      <td>{'BusinessAcceptsCreditCards': 'True'}</td>\n",
       "      <td>Home &amp; Garden, Nurseries &amp; Gardening, Shopping...</td>\n",
       "      <td>{'Monday': '8:0-17:0', 'Tuesday': '8:0-17:0', ...</td>\n",
       "      <td>bad</td>\n",
       "    </tr>\n",
       "    <tr>\n",
       "      <th>5</th>\n",
       "      <td>45bWSZtniwPRiqlivpS8Og</td>\n",
       "      <td>The Coffee Bean &amp; Tea Leaf</td>\n",
       "      <td></td>\n",
       "      <td>20235 N Cave Creek Rd, Ste 1115</td>\n",
       "      <td>Phoenix</td>\n",
       "      <td>AZ</td>\n",
       "      <td>85024</td>\n",
       "      <td>33.671375</td>\n",
       "      <td>-112.030017</td>\n",
       "      <td>4.0</td>\n",
       "      <td>63</td>\n",
       "      <td>1</td>\n",
       "      <td>{'BikeParking': 'True', 'BusinessAcceptsCredit...</td>\n",
       "      <td>Coffee &amp; Tea, Food</td>\n",
       "      <td>{'Monday': '5:30-20:0', 'Tuesday': '5:30-20:0'...</td>\n",
       "      <td>good</td>\n",
       "    </tr>\n",
       "  </tbody>\n",
       "</table>\n",
       "</div>"
      ],
      "text/plain": [
       "              business_id                        name  \\\n",
       "0  Apn5Q_b6Nz61Tq4XzPdf9A        Minhas Micro Brewery   \n",
       "1  AjEbIBw6ZFfln7ePHha9PA         CK'S BBQ & Catering   \n",
       "2  O8S5hYJ1SMc8fA4QBtVujA               La Bastringue   \n",
       "4  8USyCYqpScwiNEb58Bt6CA               Action Engine   \n",
       "5  45bWSZtniwPRiqlivpS8Og  The Coffee Bean & Tea Leaf   \n",
       "\n",
       "                neighborhood                          address       city  \\\n",
       "0                                           1314 44 Avenue NE    Calgary   \n",
       "1                                                              Henderson   \n",
       "2  Rosemont-La Petite-Patrie              1335 rue Beaubien E   Montréal   \n",
       "4                                         2005 Alyth Place SE    Calgary   \n",
       "5                             20235 N Cave Creek Rd, Ste 1115    Phoenix   \n",
       "\n",
       "  state postal_code   latitude   longitude  stars  review_count  is_open  \\\n",
       "0    AB     T2E 6L6  51.091813 -114.031675    4.0            24        1   \n",
       "1    NV       89002  35.960734 -114.939821    4.5             3        0   \n",
       "2    QC     H2G 1K7  45.540503  -73.599300    4.0             5        0   \n",
       "4    AB     T2H 0N5  51.035591 -114.027366    2.0             4        1   \n",
       "5    AZ       85024  33.671375 -112.030017    4.0            63        1   \n",
       "\n",
       "                                          attributes  \\\n",
       "0  {'BikeParking': 'False', 'BusinessAcceptsCredi...   \n",
       "1  {'Alcohol': 'none', 'BikeParking': 'False', 'B...   \n",
       "2  {'Alcohol': 'beer_and_wine', 'Ambience': '{'ro...   \n",
       "4             {'BusinessAcceptsCreditCards': 'True'}   \n",
       "5  {'BikeParking': 'True', 'BusinessAcceptsCredit...   \n",
       "\n",
       "                                          categories  \\\n",
       "0  Tours, Breweries, Pizza, Restaurants, Food, Ho...   \n",
       "1  Chicken Wings, Burgers, Caterers, Street Vendo...   \n",
       "2  Breakfast & Brunch, Restaurants, French, Sandw...   \n",
       "4  Home & Garden, Nurseries & Gardening, Shopping...   \n",
       "5                                 Coffee & Tea, Food   \n",
       "\n",
       "                                               hours rating_type  \n",
       "0  {'Monday': '8:30-17:0', 'Tuesday': '11:0-21:0'...        good  \n",
       "1  {'Friday': '17:0-23:0', 'Saturday': '17:0-23:0...        good  \n",
       "2  {'Monday': '10:0-22:0', 'Tuesday': '10:0-22:0'...        good  \n",
       "4  {'Monday': '8:0-17:0', 'Tuesday': '8:0-17:0', ...         bad  \n",
       "5  {'Monday': '5:30-20:0', 'Tuesday': '5:30-20:0'...        good  "
      ]
     },
     "metadata": {},
     "output_type": "display_data"
    }
   ],
   "source": [
    "rating_points = [0, 2.9, 3.6, 5]\n",
    "label_names = ['bad', 'average', 'good']\n",
    "\n",
    "# create new column 'rating_type'\n",
    "b_data['rating_type'] = pd.cut(b_data['stars'], bins = rating_points, labels = label_names)\n",
    "\n",
    "display(b_data.head())"
   ]
  },
  {
   "cell_type": "code",
   "execution_count": null,
   "metadata": {},
   "outputs": [],
   "source": []
  },
  {
   "cell_type": "markdown",
   "metadata": {
    "id": "vKGDOp4L1Sdd"
   },
   "source": [
    "# Data Exploration: Exploring the Yelp Dataset\n",
    "\n",
    "**(1) Finding the most popular business categories:** \n",
    "* print the top 10 most popular business categories in the dataset and their counts in a table (i.e., how many business objects in each category). Here we say a category is \"popular\" if there are many business objects in this category (such as 'restaurants')."
   ]
  },
  {
   "cell_type": "code",
   "execution_count": 9,
   "metadata": {},
   "outputs": [
    {
     "name": "stdout",
     "output_type": "stream",
     "text": [
      "Note: you may need to restart the kernel to use updated packages.\n"
     ]
    },
    {
     "name": "stderr",
     "output_type": "stream",
     "text": [
      "ERROR: Could not find a version that satisfies the requirement collections\n",
      "ERROR: No matching distribution found for collections\n"
     ]
    }
   ],
   "source": [
    "pip install collections\n"
   ]
  },
  {
   "cell_type": "code",
   "execution_count": 10,
   "metadata": {
    "id": "WO9CD9Dd1Sdd",
    "outputId": "7ffe3609-4b60-4691-e82a-4e0d7a2d6291"
   },
   "outputs": [
    {
     "data": {
      "text/html": [
       "<div>\n",
       "<style scoped>\n",
       "    .dataframe tbody tr th:only-of-type {\n",
       "        vertical-align: middle;\n",
       "    }\n",
       "\n",
       "    .dataframe tbody tr th {\n",
       "        vertical-align: top;\n",
       "    }\n",
       "\n",
       "    .dataframe thead th {\n",
       "        text-align: right;\n",
       "    }\n",
       "</style>\n",
       "<table border=\"1\" class=\"dataframe\">\n",
       "  <thead>\n",
       "    <tr style=\"text-align: right;\">\n",
       "      <th></th>\n",
       "      <th>Category</th>\n",
       "      <th>Count</th>\n",
       "    </tr>\n",
       "  </thead>\n",
       "  <tbody>\n",
       "    <tr>\n",
       "      <th>0</th>\n",
       "      <td>Restaurants</td>\n",
       "      <td>42730</td>\n",
       "    </tr>\n",
       "    <tr>\n",
       "      <th>1</th>\n",
       "      <td>Shopping</td>\n",
       "      <td>23095</td>\n",
       "    </tr>\n",
       "    <tr>\n",
       "      <th>2</th>\n",
       "      <td>Food</td>\n",
       "      <td>20674</td>\n",
       "    </tr>\n",
       "    <tr>\n",
       "      <th>3</th>\n",
       "      <td>Beauty &amp; Spas</td>\n",
       "      <td>15146</td>\n",
       "    </tr>\n",
       "    <tr>\n",
       "      <th>4</th>\n",
       "      <td>Home Services</td>\n",
       "      <td>14158</td>\n",
       "    </tr>\n",
       "    <tr>\n",
       "      <th>5</th>\n",
       "      <td>Health &amp; Medical</td>\n",
       "      <td>12536</td>\n",
       "    </tr>\n",
       "    <tr>\n",
       "      <th>6</th>\n",
       "      <td>Nightlife</td>\n",
       "      <td>9993</td>\n",
       "    </tr>\n",
       "    <tr>\n",
       "      <th>7</th>\n",
       "      <td>Local Services</td>\n",
       "      <td>9985</td>\n",
       "    </tr>\n",
       "    <tr>\n",
       "      <th>8</th>\n",
       "      <td>Bars</td>\n",
       "      <td>8988</td>\n",
       "    </tr>\n",
       "    <tr>\n",
       "      <th>9</th>\n",
       "      <td>Automotive</td>\n",
       "      <td>7433</td>\n",
       "    </tr>\n",
       "  </tbody>\n",
       "</table>\n",
       "</div>"
      ],
      "text/plain": [
       "           Category  Count\n",
       "0       Restaurants  42730\n",
       "1          Shopping  23095\n",
       "2              Food  20674\n",
       "3     Beauty & Spas  15146\n",
       "4     Home Services  14158\n",
       "5  Health & Medical  12536\n",
       "6         Nightlife   9993\n",
       "7    Local Services   9985\n",
       "8              Bars   8988\n",
       "9        Automotive   7433"
      ]
     },
     "metadata": {},
     "output_type": "display_data"
    }
   ],
   "source": [
    "# Your code starts here\n",
    "#   Please add comments or text cells in between to explain the general idea of each block of the code.\n",
    "#   Please feel free to add more cells below this cell if necessary\n",
    "\n",
    "\n",
    "categories = b_data[\"categories\"].str.split(\", \")\n",
    "categories = categories.explode()\n",
    "category_counts = categories.value_counts()\n",
    "top_categories = category_counts.head(10)\n",
    "\n",
    "top_categories_table = pd.DataFrame({\"Category\": top_categories.index, \"Count\": top_categories.values})\n",
    "display(top_categories_table)\n"
   ]
  },
  {
   "cell_type": "code",
   "execution_count": 11,
   "metadata": {},
   "outputs": [
    {
     "data": {
      "image/png": "[encoded data removed]",
      "text/plain": [
       "<Figure size 1440x504 with 1 Axes>"
      ]
     },
     "metadata": {
      "needs_background": "light"
     },
     "output_type": "display_data"
    }
   ],
   "source": [
    "import matplotlib.pyplot as plt\n",
    "import seaborn as sns\n",
    "import sklearn\n",
    "plt.figure(figsize=(20, 7))\n",
    "x=top_categories.index\n",
    "y=top_categories.values\n",
    "# sns.barplot(x,y)\n",
    "plt.barh(x,y)\n",
    "plt.title('Status and Business counts', fontsize=18)\n",
    "plt.ylabel('Business category', fontsize=18)\n",
    "plt.xlabel('Business Count ', fontsize=18)\n",
    "# print(\"Status and Business Count \")\n",
    "plt.show()"
   ]
  },
  {
   "cell_type": "markdown",
   "metadata": {
    "id": "ZjAPbMYD1Sde"
   },
   "source": [
    "**(2) Find the most popular business objects** \n",
    "* print the top 10 most popular business objects/IDs in the dataset and their counts (i.e., how many checkins in total for each business object).  Here we say a business object is \"popular\" if the business object attracts a large number of checkins from the users."
   ]
  },
  {
   "cell_type": "code",
   "execution_count": 12,
   "metadata": {},
   "outputs": [
    {
     "data": {
      "text/html": [
       "<div>\n",
       "<style scoped>\n",
       "    .dataframe tbody tr th:only-of-type {\n",
       "        vertical-align: middle;\n",
       "    }\n",
       "\n",
       "    .dataframe tbody tr th {\n",
       "        vertical-align: top;\n",
       "    }\n",
       "\n",
       "    .dataframe thead th {\n",
       "        text-align: right;\n",
       "    }\n",
       "</style>\n",
       "<table border=\"1\" class=\"dataframe\">\n",
       "  <thead>\n",
       "    <tr style=\"text-align: right;\">\n",
       "      <th></th>\n",
       "      <th>checkin_info</th>\n",
       "      <th>type</th>\n",
       "      <th>business_id</th>\n",
       "      <th>total</th>\n",
       "    </tr>\n",
       "  </thead>\n",
       "  <tbody>\n",
       "    <tr>\n",
       "      <th>12285</th>\n",
       "      <td>{'22-6': 437, '22-5': 178, '22-4': 815, '22-3'...</td>\n",
       "      <td>checkin</td>\n",
       "      <td>jf67Z1pnwElRSXllpQHiJg</td>\n",
       "      <td>77320</td>\n",
       "    </tr>\n",
       "    <tr>\n",
       "      <th>2905</th>\n",
       "      <td>{'22-6': 553, '22-5': 155, '22-4': 348, '22-3'...</td>\n",
       "      <td>checkin</td>\n",
       "      <td>hW0Ne_HTHEAgGF1rAdmR-g</td>\n",
       "      <td>68711</td>\n",
       "    </tr>\n",
       "    <tr>\n",
       "      <th>828</th>\n",
       "      <td>{'0-3': 1, '22-6': 9, '22-5': 3, '22-4': 7, '2...</td>\n",
       "      <td>checkin</td>\n",
       "      <td>3Q0QQPnHcJuX1DLCL9G9Cg</td>\n",
       "      <td>29893</td>\n",
       "    </tr>\n",
       "    <tr>\n",
       "      <th>31015</th>\n",
       "      <td>{'22-6': 181, '22-5': 475, '22-4': 490, '22-3'...</td>\n",
       "      <td>checkin</td>\n",
       "      <td>AtjsjFzalWqJ7S9DUFQ4bw</td>\n",
       "      <td>27356</td>\n",
       "    </tr>\n",
       "    <tr>\n",
       "      <th>25634</th>\n",
       "      <td>{'4-5': 46, '22-6': 138, '22-5': 176, '22-4': ...</td>\n",
       "      <td>checkin</td>\n",
       "      <td>JpHE7yhMS5ehA9e8WG_ETg</td>\n",
       "      <td>18208</td>\n",
       "    </tr>\n",
       "    <tr>\n",
       "      <th>...</th>\n",
       "      <td>...</td>\n",
       "      <td>...</td>\n",
       "      <td>...</td>\n",
       "      <td>...</td>\n",
       "    </tr>\n",
       "    <tr>\n",
       "      <th>27452</th>\n",
       "      <td>{'22-2': 1, '19-6': 1, '19-3': 2, '11-5': 26, ...</td>\n",
       "      <td>checkin</td>\n",
       "      <td>CdqTxe171tKTOkk8T15GGA</td>\n",
       "      <td>1238</td>\n",
       "    </tr>\n",
       "    <tr>\n",
       "      <th>15464</th>\n",
       "      <td>{'22-6': 2, '22-5': 3, '22-4': 6, '22-3': 2, '...</td>\n",
       "      <td>checkin</td>\n",
       "      <td>Rzg2-ugIG_UxQCN_JqXDcA</td>\n",
       "      <td>1237</td>\n",
       "    </tr>\n",
       "    <tr>\n",
       "      <th>3866</th>\n",
       "      <td>{'22-5': 1, '22-4': 2, '22-3': 5, '22-2': 3, '...</td>\n",
       "      <td>checkin</td>\n",
       "      <td>DPO-EDWSNXAjQSEFGpyRWw</td>\n",
       "      <td>1235</td>\n",
       "    </tr>\n",
       "    <tr>\n",
       "      <th>21067</th>\n",
       "      <td>{'22-5': 2, '22-4': 3, '22-3': 1, '22-1': 1, '...</td>\n",
       "      <td>checkin</td>\n",
       "      <td>IXssz6N-sgX-RrVjThcMaw</td>\n",
       "      <td>1235</td>\n",
       "    </tr>\n",
       "    <tr>\n",
       "      <th>14430</th>\n",
       "      <td>{'4-5': 6, '22-6': 4, '22-5': 10, '22-4': 14, ...</td>\n",
       "      <td>checkin</td>\n",
       "      <td>hdqQWR9uUX4opynP3uuJlw</td>\n",
       "      <td>1234</td>\n",
       "    </tr>\n",
       "  </tbody>\n",
       "</table>\n",
       "<p>1000 rows × 4 columns</p>\n",
       "</div>"
      ],
      "text/plain": [
       "                                            checkin_info     type  \\\n",
       "12285  {'22-6': 437, '22-5': 178, '22-4': 815, '22-3'...  checkin   \n",
       "2905   {'22-6': 553, '22-5': 155, '22-4': 348, '22-3'...  checkin   \n",
       "828    {'0-3': 1, '22-6': 9, '22-5': 3, '22-4': 7, '2...  checkin   \n",
       "31015  {'22-6': 181, '22-5': 475, '22-4': 490, '22-3'...  checkin   \n",
       "25634  {'4-5': 46, '22-6': 138, '22-5': 176, '22-4': ...  checkin   \n",
       "...                                                  ...      ...   \n",
       "27452  {'22-2': 1, '19-6': 1, '19-3': 2, '11-5': 26, ...  checkin   \n",
       "15464  {'22-6': 2, '22-5': 3, '22-4': 6, '22-3': 2, '...  checkin   \n",
       "3866   {'22-5': 1, '22-4': 2, '22-3': 5, '22-2': 3, '...  checkin   \n",
       "21067  {'22-5': 2, '22-4': 3, '22-3': 1, '22-1': 1, '...  checkin   \n",
       "14430  {'4-5': 6, '22-6': 4, '22-5': 10, '22-4': 14, ...  checkin   \n",
       "\n",
       "                  business_id  total  \n",
       "12285  jf67Z1pnwElRSXllpQHiJg  77320  \n",
       "2905   hW0Ne_HTHEAgGF1rAdmR-g  68711  \n",
       "828    3Q0QQPnHcJuX1DLCL9G9Cg  29893  \n",
       "31015  AtjsjFzalWqJ7S9DUFQ4bw  27356  \n",
       "25634  JpHE7yhMS5ehA9e8WG_ETg  18208  \n",
       "...                       ...    ...  \n",
       "27452  CdqTxe171tKTOkk8T15GGA   1238  \n",
       "15464  Rzg2-ugIG_UxQCN_JqXDcA   1237  \n",
       "3866   DPO-EDWSNXAjQSEFGpyRWw   1235  \n",
       "21067  IXssz6N-sgX-RrVjThcMaw   1235  \n",
       "14430  hdqQWR9uUX4opynP3uuJlw   1234  \n",
       "\n",
       "[1000 rows x 4 columns]"
      ]
     },
     "execution_count": 12,
     "metadata": {},
     "output_type": "execute_result"
    }
   ],
   "source": [
    "# Your code starts here\n",
    "#   Please add comments or text cells in between to explain the general idea of each block of the code.\n",
    "#   Please feel free to add more cells below this cell if necessary\n",
    "chk_data['total'] = chk_data.apply(lambda row: np.array(list(row['checkin_info']. values())).sum(),axis=1) \n",
    "top_checkin = chk_data.sort_values('total', ascending=False) \n",
    "top_checkin.head (1000)"
   ]
  },
  {
   "cell_type": "code",
   "execution_count": 13,
   "metadata": {},
   "outputs": [
    {
     "data": {
      "image/png": "[encoded data removed]",
      "text/plain": [
       "<Figure size 1440x504 with 1 Axes>"
      ]
     },
     "metadata": {
      "needs_background": "light"
     },
     "output_type": "display_data"
    }
   ],
   "source": [
    "plt.figure(figsize=(20, 7))\n",
    "x = \"business_id\"\n",
    "y = \"total\"\n",
    "# sns.barplot(x,y, data = top_checkin[:10])\n",
    "plt.title('top checkin and business ID\\'s', fontsize=18)\n",
    "plt.ylabel('Business_id', fontsize=18)\n",
    "plt.xlabel('Total Footfall ', fontsize=18)\n",
    "plt.barh(x,y,data = top_checkin[:10])\n",
    "plt.show()"
   ]
  },
  {
   "cell_type": "code",
   "execution_count": 14,
   "metadata": {},
   "outputs": [
    {
     "data": {
      "text/html": [
       "<div>\n",
       "<style scoped>\n",
       "    .dataframe tbody tr th:only-of-type {\n",
       "        vertical-align: middle;\n",
       "    }\n",
       "\n",
       "    .dataframe tbody tr th {\n",
       "        vertical-align: top;\n",
       "    }\n",
       "\n",
       "    .dataframe thead th {\n",
       "        text-align: right;\n",
       "    }\n",
       "</style>\n",
       "<table border=\"1\" class=\"dataframe\">\n",
       "  <thead>\n",
       "    <tr style=\"text-align: right;\">\n",
       "      <th></th>\n",
       "      <th>latitude</th>\n",
       "      <th>longitude</th>\n",
       "      <th>stars</th>\n",
       "      <th>review_count</th>\n",
       "      <th>is_open</th>\n",
       "    </tr>\n",
       "  </thead>\n",
       "  <tbody>\n",
       "    <tr>\n",
       "      <th>count</th>\n",
       "      <td>127442.000000</td>\n",
       "      <td>127442.000000</td>\n",
       "      <td>127442.000000</td>\n",
       "      <td>127442.000000</td>\n",
       "      <td>127442.000000</td>\n",
       "    </tr>\n",
       "    <tr>\n",
       "      <th>mean</th>\n",
       "      <td>38.351556</td>\n",
       "      <td>-97.933446</td>\n",
       "      <td>3.754218</td>\n",
       "      <td>41.785487</td>\n",
       "      <td>0.851532</td>\n",
       "    </tr>\n",
       "    <tr>\n",
       "      <th>std</th>\n",
       "      <td>5.013253</td>\n",
       "      <td>17.186358</td>\n",
       "      <td>0.940438</td>\n",
       "      <td>124.178976</td>\n",
       "      <td>0.355564</td>\n",
       "    </tr>\n",
       "    <tr>\n",
       "      <th>min</th>\n",
       "      <td>-71.753941</td>\n",
       "      <td>-180.000000</td>\n",
       "      <td>1.000000</td>\n",
       "      <td>3.000000</td>\n",
       "      <td>0.000000</td>\n",
       "    </tr>\n",
       "    <tr>\n",
       "      <th>25%</th>\n",
       "      <td>33.623650</td>\n",
       "      <td>-112.275639</td>\n",
       "      <td>3.000000</td>\n",
       "      <td>5.000000</td>\n",
       "      <td>1.000000</td>\n",
       "    </tr>\n",
       "    <tr>\n",
       "      <th>50%</th>\n",
       "      <td>36.127552</td>\n",
       "      <td>-111.791828</td>\n",
       "      <td>4.000000</td>\n",
       "      <td>12.000000</td>\n",
       "      <td>1.000000</td>\n",
       "    </tr>\n",
       "    <tr>\n",
       "      <th>75%</th>\n",
       "      <td>43.183561</td>\n",
       "      <td>-80.021961</td>\n",
       "      <td>4.500000</td>\n",
       "      <td>34.000000</td>\n",
       "      <td>1.000000</td>\n",
       "    </tr>\n",
       "    <tr>\n",
       "      <th>max</th>\n",
       "      <td>85.051129</td>\n",
       "      <td>115.086769</td>\n",
       "      <td>5.000000</td>\n",
       "      <td>7968.000000</td>\n",
       "      <td>1.000000</td>\n",
       "    </tr>\n",
       "  </tbody>\n",
       "</table>\n",
       "</div>"
      ],
      "text/plain": [
       "            latitude      longitude          stars   review_count  \\\n",
       "count  127442.000000  127442.000000  127442.000000  127442.000000   \n",
       "mean       38.351556     -97.933446       3.754218      41.785487   \n",
       "std         5.013253      17.186358       0.940438     124.178976   \n",
       "min       -71.753941    -180.000000       1.000000       3.000000   \n",
       "25%        33.623650    -112.275639       3.000000       5.000000   \n",
       "50%        36.127552    -111.791828       4.000000      12.000000   \n",
       "75%        43.183561     -80.021961       4.500000      34.000000   \n",
       "max        85.051129     115.086769       5.000000    7968.000000   \n",
       "\n",
       "             is_open  \n",
       "count  127442.000000  \n",
       "mean        0.851532  \n",
       "std         0.355564  \n",
       "min         0.000000  \n",
       "25%         1.000000  \n",
       "50%         1.000000  \n",
       "75%         1.000000  \n",
       "max         1.000000  "
      ]
     },
     "execution_count": 14,
     "metadata": {},
     "output_type": "execute_result"
    }
   ],
   "source": [
    "b_data.describe()"
   ]
  },
  {
   "cell_type": "code",
   "execution_count": 15,
   "metadata": {},
   "outputs": [
    {
     "data": {
      "image/png": "[encoded data removed]",
      "text/plain": [
       "<Figure size 1440x504 with 1 Axes>"
      ]
     },
     "metadata": {
      "needs_background": "light"
     },
     "output_type": "display_data"
    }
   ],
   "source": [
    "x = b_data[\"stars\"].value_counts().sort_index()\n",
    "#plot hthe ratings of business\n",
    "plt.figure(figsize=(20, 7))\n",
    "# x=x.index\n",
    "# y=x.values\n",
    "# alpha=0.8\n",
    "rate= sns.barplot(x=x.index, y=x.values, alpha=0.8,color='steelblue')\n",
    "plt.title(\"Star Rating Distribution for Total Dataset\", fontsize=18)\n",
    "plt.ylabel('business count', fontsize=12)\n",
    "plt.xlabel('Star Ratings ', fontsize=12)\n",
    "# plt.barh(x,y, alpha=0.8)\n",
    "# plt.bar(x, y, alpha=0.8, width = 0.4)\n",
    "plt.show()"
   ]
  },
  {
   "cell_type": "markdown",
   "metadata": {},
   "source": [
    "**(3) Other explorations you would like to present** \n"
   ]
  },
  {
   "cell_type": "code",
   "execution_count": 16,
   "metadata": {},
   "outputs": [
    {
     "data": {
      "text/html": [
       "<div>\n",
       "<style scoped>\n",
       "    .dataframe tbody tr th:only-of-type {\n",
       "        vertical-align: middle;\n",
       "    }\n",
       "\n",
       "    .dataframe tbody tr th {\n",
       "        vertical-align: top;\n",
       "    }\n",
       "\n",
       "    .dataframe thead th {\n",
       "        text-align: right;\n",
       "    }\n",
       "</style>\n",
       "<table border=\"1\" class=\"dataframe\">\n",
       "  <thead>\n",
       "    <tr style=\"text-align: right;\">\n",
       "      <th></th>\n",
       "      <th>latitude</th>\n",
       "      <th>longitude</th>\n",
       "      <th>stars</th>\n",
       "      <th>review_count</th>\n",
       "      <th>is_open</th>\n",
       "    </tr>\n",
       "  </thead>\n",
       "  <tbody>\n",
       "    <tr>\n",
       "      <th>count</th>\n",
       "      <td>127442.000000</td>\n",
       "      <td>127442.000000</td>\n",
       "      <td>127442.000000</td>\n",
       "      <td>127442.000000</td>\n",
       "      <td>127442.000000</td>\n",
       "    </tr>\n",
       "    <tr>\n",
       "      <th>mean</th>\n",
       "      <td>38.351556</td>\n",
       "      <td>-97.933446</td>\n",
       "      <td>3.754218</td>\n",
       "      <td>41.785487</td>\n",
       "      <td>0.851532</td>\n",
       "    </tr>\n",
       "    <tr>\n",
       "      <th>std</th>\n",
       "      <td>5.013253</td>\n",
       "      <td>17.186358</td>\n",
       "      <td>0.940438</td>\n",
       "      <td>124.178976</td>\n",
       "      <td>0.355564</td>\n",
       "    </tr>\n",
       "    <tr>\n",
       "      <th>min</th>\n",
       "      <td>-71.753941</td>\n",
       "      <td>-180.000000</td>\n",
       "      <td>1.000000</td>\n",
       "      <td>3.000000</td>\n",
       "      <td>0.000000</td>\n",
       "    </tr>\n",
       "    <tr>\n",
       "      <th>25%</th>\n",
       "      <td>33.623650</td>\n",
       "      <td>-112.275639</td>\n",
       "      <td>3.000000</td>\n",
       "      <td>5.000000</td>\n",
       "      <td>1.000000</td>\n",
       "    </tr>\n",
       "    <tr>\n",
       "      <th>50%</th>\n",
       "      <td>36.127552</td>\n",
       "      <td>-111.791828</td>\n",
       "      <td>4.000000</td>\n",
       "      <td>12.000000</td>\n",
       "      <td>1.000000</td>\n",
       "    </tr>\n",
       "    <tr>\n",
       "      <th>75%</th>\n",
       "      <td>43.183561</td>\n",
       "      <td>-80.021961</td>\n",
       "      <td>4.500000</td>\n",
       "      <td>34.000000</td>\n",
       "      <td>1.000000</td>\n",
       "    </tr>\n",
       "    <tr>\n",
       "      <th>max</th>\n",
       "      <td>85.051129</td>\n",
       "      <td>115.086769</td>\n",
       "      <td>5.000000</td>\n",
       "      <td>7968.000000</td>\n",
       "      <td>1.000000</td>\n",
       "    </tr>\n",
       "  </tbody>\n",
       "</table>\n",
       "</div>"
      ],
      "text/plain": [
       "            latitude      longitude          stars   review_count  \\\n",
       "count  127442.000000  127442.000000  127442.000000  127442.000000   \n",
       "mean       38.351556     -97.933446       3.754218      41.785487   \n",
       "std         5.013253      17.186358       0.940438     124.178976   \n",
       "min       -71.753941    -180.000000       1.000000       3.000000   \n",
       "25%        33.623650    -112.275639       3.000000       5.000000   \n",
       "50%        36.127552    -111.791828       4.000000      12.000000   \n",
       "75%        43.183561     -80.021961       4.500000      34.000000   \n",
       "max        85.051129     115.086769       5.000000    7968.000000   \n",
       "\n",
       "             is_open  \n",
       "count  127442.000000  \n",
       "mean        0.851532  \n",
       "std         0.355564  \n",
       "min         0.000000  \n",
       "25%         1.000000  \n",
       "50%         1.000000  \n",
       "75%         1.000000  \n",
       "max         1.000000  "
      ]
     },
     "execution_count": 16,
     "metadata": {},
     "output_type": "execute_result"
    }
   ],
   "source": [
    "b_data.describe()"
   ]
  },
  {
   "cell_type": "code",
   "execution_count": 17,
   "metadata": {},
   "outputs": [
    {
     "name": "stdout",
     "output_type": "stream",
     "text": [
      "top states\n"
     ]
    },
    {
     "data": {
      "text/plain": [
       "AZ    39488\n",
       "NV    24312\n",
       "ON    20903\n",
       "NC     9851\n",
       "OH     9176\n",
       "PA     7294\n",
       "QC     5792\n",
       "AB     4804\n",
       "WI     3685\n",
       "IL     1269\n",
       "Name: state, dtype: int64"
      ]
     },
     "execution_count": 17,
     "metadata": {},
     "output_type": "execute_result"
    }
   ],
   "source": [
    "print(\"top states\")\n",
    "b_data[\"state\"].value_counts().head(10)"
   ]
  },
  {
   "cell_type": "code",
   "execution_count": 18,
   "metadata": {},
   "outputs": [
    {
     "data": {
      "image/png": "[encoded data removed]",
      "text/plain": [
       "<Figure size 1152x288 with 1 Axes>"
      ]
     },
     "metadata": {
      "needs_background": "light"
     },
     "output_type": "display_data"
    }
   ],
   "source": [
    "x = b_data['city'].value_counts().sort_values(ascending=False)\n",
    "x = x.iloc[0:20]\n",
    "plt.figure(figsize=(16,4))\n",
    "citybar = sns.barplot(x=x.index, y=x.values, alpha=0.8, color='steelblue')\n",
    "plt.title(\"City with most business\", fontsize=18)\n",
    "locs, labels = plt.xticks()\n",
    "plt.setp(labels, rotation=45)\n",
    "plt.ylabel('# businesses', fontsize=18)\n",
    "plt.xlabel('City', fontsize=18)\n",
    "# plt.bar(x=x.index, y=x.values, alpha=0.8)\n",
    "sns.despine(left=True, bottom=True)\n",
    "\n",
    "plt.show()"
   ]
  },
  {
   "cell_type": "code",
   "execution_count": 19,
   "metadata": {},
   "outputs": [
    {
     "data": {
      "image/png": "[encoded data removed]",
      "text/plain": [
       "<Figure size 864x576 with 1 Axes>"
      ]
     },
     "metadata": {
      "needs_background": "light"
     },
     "output_type": "display_data"
    }
   ],
   "source": [
    "plt.figure(figsize=(12,8))\n",
    "op_cl = sns.countplot(hue='stars', x='is_open', data = b_data,color='red')\n",
    "op_cl.set_ylabel('Count')\n",
    "op_cl.set_xlabel('Is Open')\n",
    "op_cl.set_title('Number of Open/Closed Businesses by Star Rating')\n",
    "\n",
    "plt.show()"
   ]
  },
  {
   "cell_type": "code",
   "execution_count": null,
   "metadata": {},
   "outputs": [],
   "source": []
  },
  {
   "cell_type": "markdown",
   "metadata": {
    "id": "7IbdcxqY1Sdf"
   },
   "source": [
    "# The Solution: implement a data science solution to the problem you are trying to solve."
   ]
  },
  {
   "cell_type": "markdown",
   "metadata": {
    "id": "XIx5tnbW1Sdg"
   },
   "source": [
    "Briefly describe the idea of your solution to the problem in the following cell:"
   ]
  },
  {
   "cell_type": "markdown",
   "metadata": {
    "id": "jt-daX3n1Sdg"
   },
   "source": [
    "\n",
    "\n",
    "\n",
    "\n",
    "\n",
    "\n",
    "\n",
    "\n",
    "One approach to address this issue is to leverage machine learning algorithms to assess Yelp review data and categorize restaurants as either good or bad depending on their ratings and reviews. This categorization can take into account a range of factors, such as the tone of the reviews, the frequency and gravity of negative feedback, or the ratings assigned by reviewers. The insights gleaned from this analysis can be employed to offer customers more precise and pertinent information when selecting where to dine, as well as assist restaurant owners in enhancing their business through customer feedback.\n",
    "\n"
   ]
  },
  {
   "cell_type": "markdown",
   "metadata": {
    "id": "-VS6bpHN1Sdg"
   },
   "source": [
    "Write codes to implement the solution in python:"
   ]
  },
  {
   "cell_type": "code",
   "execution_count": 20,
   "metadata": {
    "id": "1Rkcv4oH1Sdg"
   },
   "outputs": [
    {
     "data": {
      "text/html": [
       "<div>\n",
       "<style scoped>\n",
       "    .dataframe tbody tr th:only-of-type {\n",
       "        vertical-align: middle;\n",
       "    }\n",
       "\n",
       "    .dataframe tbody tr th {\n",
       "        vertical-align: top;\n",
       "    }\n",
       "\n",
       "    .dataframe thead th {\n",
       "        text-align: right;\n",
       "    }\n",
       "</style>\n",
       "<table border=\"1\" class=\"dataframe\">\n",
       "  <thead>\n",
       "    <tr style=\"text-align: right;\">\n",
       "      <th></th>\n",
       "      <th>business_id</th>\n",
       "      <th>name</th>\n",
       "      <th>neighborhood</th>\n",
       "      <th>address</th>\n",
       "      <th>city</th>\n",
       "      <th>state</th>\n",
       "      <th>postal_code</th>\n",
       "      <th>latitude</th>\n",
       "      <th>longitude</th>\n",
       "      <th>stars</th>\n",
       "      <th>review_count</th>\n",
       "      <th>is_open</th>\n",
       "      <th>attributes</th>\n",
       "      <th>categories</th>\n",
       "      <th>hours</th>\n",
       "      <th>rating_type</th>\n",
       "    </tr>\n",
       "  </thead>\n",
       "  <tbody>\n",
       "    <tr>\n",
       "      <th>0</th>\n",
       "      <td>Apn5Q_b6Nz61Tq4XzPdf9A</td>\n",
       "      <td>Minhas Micro Brewery</td>\n",
       "      <td></td>\n",
       "      <td>1314 44 Avenue NE</td>\n",
       "      <td>Calgary</td>\n",
       "      <td>AB</td>\n",
       "      <td>T2E 6L6</td>\n",
       "      <td>51.091813</td>\n",
       "      <td>-114.031675</td>\n",
       "      <td>4.0</td>\n",
       "      <td>24</td>\n",
       "      <td>1</td>\n",
       "      <td>{'BikeParking': 'False', 'BusinessAcceptsCredi...</td>\n",
       "      <td>Tours, Breweries, Pizza, Restaurants, Food, Ho...</td>\n",
       "      <td>{'Monday': '8:30-17:0', 'Tuesday': '11:0-21:0'...</td>\n",
       "      <td>good</td>\n",
       "    </tr>\n",
       "    <tr>\n",
       "      <th>1</th>\n",
       "      <td>AjEbIBw6ZFfln7ePHha9PA</td>\n",
       "      <td>CK'S BBQ &amp; Catering</td>\n",
       "      <td></td>\n",
       "      <td></td>\n",
       "      <td>Henderson</td>\n",
       "      <td>NV</td>\n",
       "      <td>89002</td>\n",
       "      <td>35.960734</td>\n",
       "      <td>-114.939821</td>\n",
       "      <td>4.5</td>\n",
       "      <td>3</td>\n",
       "      <td>0</td>\n",
       "      <td>{'Alcohol': 'none', 'BikeParking': 'False', 'B...</td>\n",
       "      <td>Chicken Wings, Burgers, Caterers, Street Vendo...</td>\n",
       "      <td>{'Friday': '17:0-23:0', 'Saturday': '17:0-23:0...</td>\n",
       "      <td>good</td>\n",
       "    </tr>\n",
       "    <tr>\n",
       "      <th>2</th>\n",
       "      <td>O8S5hYJ1SMc8fA4QBtVujA</td>\n",
       "      <td>La Bastringue</td>\n",
       "      <td>Rosemont-La Petite-Patrie</td>\n",
       "      <td>1335 rue Beaubien E</td>\n",
       "      <td>Montréal</td>\n",
       "      <td>QC</td>\n",
       "      <td>H2G 1K7</td>\n",
       "      <td>45.540503</td>\n",
       "      <td>-73.599300</td>\n",
       "      <td>4.0</td>\n",
       "      <td>5</td>\n",
       "      <td>0</td>\n",
       "      <td>{'Alcohol': 'beer_and_wine', 'Ambience': '{'ro...</td>\n",
       "      <td>Breakfast &amp; Brunch, Restaurants, French, Sandw...</td>\n",
       "      <td>{'Monday': '10:0-22:0', 'Tuesday': '10:0-22:0'...</td>\n",
       "      <td>good</td>\n",
       "    </tr>\n",
       "    <tr>\n",
       "      <th>4</th>\n",
       "      <td>8USyCYqpScwiNEb58Bt6CA</td>\n",
       "      <td>Action Engine</td>\n",
       "      <td></td>\n",
       "      <td>2005 Alyth Place SE</td>\n",
       "      <td>Calgary</td>\n",
       "      <td>AB</td>\n",
       "      <td>T2H 0N5</td>\n",
       "      <td>51.035591</td>\n",
       "      <td>-114.027366</td>\n",
       "      <td>2.0</td>\n",
       "      <td>4</td>\n",
       "      <td>1</td>\n",
       "      <td>{'BusinessAcceptsCreditCards': 'True'}</td>\n",
       "      <td>Home &amp; Garden, Nurseries &amp; Gardening, Shopping...</td>\n",
       "      <td>{'Monday': '8:0-17:0', 'Tuesday': '8:0-17:0', ...</td>\n",
       "      <td>bad</td>\n",
       "    </tr>\n",
       "    <tr>\n",
       "      <th>5</th>\n",
       "      <td>45bWSZtniwPRiqlivpS8Og</td>\n",
       "      <td>The Coffee Bean &amp; Tea Leaf</td>\n",
       "      <td></td>\n",
       "      <td>20235 N Cave Creek Rd, Ste 1115</td>\n",
       "      <td>Phoenix</td>\n",
       "      <td>AZ</td>\n",
       "      <td>85024</td>\n",
       "      <td>33.671375</td>\n",
       "      <td>-112.030017</td>\n",
       "      <td>4.0</td>\n",
       "      <td>63</td>\n",
       "      <td>1</td>\n",
       "      <td>{'BikeParking': 'True', 'BusinessAcceptsCredit...</td>\n",
       "      <td>Coffee &amp; Tea, Food</td>\n",
       "      <td>{'Monday': '5:30-20:0', 'Tuesday': '5:30-20:0'...</td>\n",
       "      <td>good</td>\n",
       "    </tr>\n",
       "  </tbody>\n",
       "</table>\n",
       "</div>"
      ],
      "text/plain": [
       "              business_id                        name  \\\n",
       "0  Apn5Q_b6Nz61Tq4XzPdf9A        Minhas Micro Brewery   \n",
       "1  AjEbIBw6ZFfln7ePHha9PA         CK'S BBQ & Catering   \n",
       "2  O8S5hYJ1SMc8fA4QBtVujA               La Bastringue   \n",
       "4  8USyCYqpScwiNEb58Bt6CA               Action Engine   \n",
       "5  45bWSZtniwPRiqlivpS8Og  The Coffee Bean & Tea Leaf   \n",
       "\n",
       "                neighborhood                          address       city  \\\n",
       "0                                           1314 44 Avenue NE    Calgary   \n",
       "1                                                              Henderson   \n",
       "2  Rosemont-La Petite-Patrie              1335 rue Beaubien E   Montréal   \n",
       "4                                         2005 Alyth Place SE    Calgary   \n",
       "5                             20235 N Cave Creek Rd, Ste 1115    Phoenix   \n",
       "\n",
       "  state postal_code   latitude   longitude  stars  review_count  is_open  \\\n",
       "0    AB     T2E 6L6  51.091813 -114.031675    4.0            24        1   \n",
       "1    NV       89002  35.960734 -114.939821    4.5             3        0   \n",
       "2    QC     H2G 1K7  45.540503  -73.599300    4.0             5        0   \n",
       "4    AB     T2H 0N5  51.035591 -114.027366    2.0             4        1   \n",
       "5    AZ       85024  33.671375 -112.030017    4.0            63        1   \n",
       "\n",
       "                                          attributes  \\\n",
       "0  {'BikeParking': 'False', 'BusinessAcceptsCredi...   \n",
       "1  {'Alcohol': 'none', 'BikeParking': 'False', 'B...   \n",
       "2  {'Alcohol': 'beer_and_wine', 'Ambience': '{'ro...   \n",
       "4             {'BusinessAcceptsCreditCards': 'True'}   \n",
       "5  {'BikeParking': 'True', 'BusinessAcceptsCredit...   \n",
       "\n",
       "                                          categories  \\\n",
       "0  Tours, Breweries, Pizza, Restaurants, Food, Ho...   \n",
       "1  Chicken Wings, Burgers, Caterers, Street Vendo...   \n",
       "2  Breakfast & Brunch, Restaurants, French, Sandw...   \n",
       "4  Home & Garden, Nurseries & Gardening, Shopping...   \n",
       "5                                 Coffee & Tea, Food   \n",
       "\n",
       "                                               hours rating_type  \n",
       "0  {'Monday': '8:30-17:0', 'Tuesday': '11:0-21:0'...        good  \n",
       "1  {'Friday': '17:0-23:0', 'Saturday': '17:0-23:0...        good  \n",
       "2  {'Monday': '10:0-22:0', 'Tuesday': '10:0-22:0'...        good  \n",
       "4  {'Monday': '8:0-17:0', 'Tuesday': '8:0-17:0', ...         bad  \n",
       "5  {'Monday': '5:30-20:0', 'Tuesday': '5:30-20:0'...        good  "
      ]
     },
     "execution_count": 20,
     "metadata": {},
     "output_type": "execute_result"
    }
   ],
   "source": [
    "\n",
    "b_data_copy = b_data.copy()\n",
    "b_data_copy.head()\n"
   ]
  },
  {
   "cell_type": "code",
   "execution_count": 21,
   "metadata": {},
   "outputs": [
    {
     "data": {
      "text/plain": [
       "business_id       object\n",
       "name              object\n",
       "neighborhood      object\n",
       "address           object\n",
       "city              object\n",
       "state             object\n",
       "postal_code       object\n",
       "latitude         float64\n",
       "longitude        float64\n",
       "stars            float64\n",
       "review_count       int64\n",
       "is_open            int64\n",
       "attributes        object\n",
       "categories        object\n",
       "hours             object\n",
       "rating_type     category\n",
       "dtype: object"
      ]
     },
     "execution_count": 21,
     "metadata": {},
     "output_type": "execute_result"
    }
   ],
   "source": [
    "b_data_copy.dtypes"
   ]
  },
  {
   "cell_type": "code",
   "execution_count": 22,
   "metadata": {},
   "outputs": [
    {
     "data": {
      "text/html": [
       "<div>\n",
       "<style scoped>\n",
       "    .dataframe tbody tr th:only-of-type {\n",
       "        vertical-align: middle;\n",
       "    }\n",
       "\n",
       "    .dataframe tbody tr th {\n",
       "        vertical-align: top;\n",
       "    }\n",
       "\n",
       "    .dataframe thead th {\n",
       "        text-align: right;\n",
       "    }\n",
       "</style>\n",
       "<table border=\"1\" class=\"dataframe\">\n",
       "  <thead>\n",
       "    <tr style=\"text-align: right;\">\n",
       "      <th></th>\n",
       "      <th>business_id</th>\n",
       "      <th>name</th>\n",
       "      <th>neighborhood</th>\n",
       "      <th>address</th>\n",
       "      <th>city</th>\n",
       "      <th>state</th>\n",
       "      <th>postal_code</th>\n",
       "      <th>latitude</th>\n",
       "      <th>longitude</th>\n",
       "      <th>stars</th>\n",
       "      <th>review_count</th>\n",
       "      <th>is_open</th>\n",
       "      <th>attributes</th>\n",
       "      <th>categories</th>\n",
       "      <th>hours</th>\n",
       "      <th>rating_type</th>\n",
       "    </tr>\n",
       "  </thead>\n",
       "  <tbody>\n",
       "    <tr>\n",
       "      <th>0</th>\n",
       "      <td>Apn5Q_b6Nz61Tq4XzPdf9A</td>\n",
       "      <td>Minhas Micro Brewery</td>\n",
       "      <td></td>\n",
       "      <td>1314 44 Avenue NE</td>\n",
       "      <td>Calgary</td>\n",
       "      <td>2</td>\n",
       "      <td>T2E 6L6</td>\n",
       "      <td>51.091813</td>\n",
       "      <td>-114.031675</td>\n",
       "      <td>4.0</td>\n",
       "      <td>24</td>\n",
       "      <td>1</td>\n",
       "      <td>{'BikeParking': 'False', 'BusinessAcceptsCredi...</td>\n",
       "      <td>Tours, Breweries, Pizza, Restaurants, Food, Ho...</td>\n",
       "      <td>{'Monday': '8:30-17:0', 'Tuesday': '11:0-21:0'...</td>\n",
       "      <td>2</td>\n",
       "    </tr>\n",
       "    <tr>\n",
       "      <th>1</th>\n",
       "      <td>AjEbIBw6ZFfln7ePHha9PA</td>\n",
       "      <td>CK'S BBQ &amp; Catering</td>\n",
       "      <td></td>\n",
       "      <td></td>\n",
       "      <td>Henderson</td>\n",
       "      <td>31</td>\n",
       "      <td>89002</td>\n",
       "      <td>35.960734</td>\n",
       "      <td>-114.939821</td>\n",
       "      <td>4.5</td>\n",
       "      <td>3</td>\n",
       "      <td>0</td>\n",
       "      <td>{'Alcohol': 'none', 'BikeParking': 'False', 'B...</td>\n",
       "      <td>Chicken Wings, Burgers, Caterers, Street Vendo...</td>\n",
       "      <td>{'Friday': '17:0-23:0', 'Saturday': '17:0-23:0...</td>\n",
       "      <td>2</td>\n",
       "    </tr>\n",
       "    <tr>\n",
       "      <th>2</th>\n",
       "      <td>O8S5hYJ1SMc8fA4QBtVujA</td>\n",
       "      <td>La Bastringue</td>\n",
       "      <td>Rosemont-La Petite-Patrie</td>\n",
       "      <td>1335 rue Beaubien E</td>\n",
       "      <td>Montréal</td>\n",
       "      <td>40</td>\n",
       "      <td>H2G 1K7</td>\n",
       "      <td>45.540503</td>\n",
       "      <td>-73.599300</td>\n",
       "      <td>4.0</td>\n",
       "      <td>5</td>\n",
       "      <td>0</td>\n",
       "      <td>{'Alcohol': 'beer_and_wine', 'Ambience': '{'ro...</td>\n",
       "      <td>Breakfast &amp; Brunch, Restaurants, French, Sandw...</td>\n",
       "      <td>{'Monday': '10:0-22:0', 'Tuesday': '10:0-22:0'...</td>\n",
       "      <td>2</td>\n",
       "    </tr>\n",
       "    <tr>\n",
       "      <th>4</th>\n",
       "      <td>8USyCYqpScwiNEb58Bt6CA</td>\n",
       "      <td>Action Engine</td>\n",
       "      <td></td>\n",
       "      <td>2005 Alyth Place SE</td>\n",
       "      <td>Calgary</td>\n",
       "      <td>2</td>\n",
       "      <td>T2H 0N5</td>\n",
       "      <td>51.035591</td>\n",
       "      <td>-114.027366</td>\n",
       "      <td>2.0</td>\n",
       "      <td>4</td>\n",
       "      <td>1</td>\n",
       "      <td>{'BusinessAcceptsCreditCards': 'True'}</td>\n",
       "      <td>Home &amp; Garden, Nurseries &amp; Gardening, Shopping...</td>\n",
       "      <td>{'Monday': '8:0-17:0', 'Tuesday': '8:0-17:0', ...</td>\n",
       "      <td>1</td>\n",
       "    </tr>\n",
       "    <tr>\n",
       "      <th>5</th>\n",
       "      <td>45bWSZtniwPRiqlivpS8Og</td>\n",
       "      <td>The Coffee Bean &amp; Tea Leaf</td>\n",
       "      <td></td>\n",
       "      <td>20235 N Cave Creek Rd, Ste 1115</td>\n",
       "      <td>Phoenix</td>\n",
       "      <td>6</td>\n",
       "      <td>85024</td>\n",
       "      <td>33.671375</td>\n",
       "      <td>-112.030017</td>\n",
       "      <td>4.0</td>\n",
       "      <td>63</td>\n",
       "      <td>1</td>\n",
       "      <td>{'BikeParking': 'True', 'BusinessAcceptsCredit...</td>\n",
       "      <td>Coffee &amp; Tea, Food</td>\n",
       "      <td>{'Monday': '5:30-20:0', 'Tuesday': '5:30-20:0'...</td>\n",
       "      <td>2</td>\n",
       "    </tr>\n",
       "  </tbody>\n",
       "</table>\n",
       "</div>"
      ],
      "text/plain": [
       "              business_id                        name  \\\n",
       "0  Apn5Q_b6Nz61Tq4XzPdf9A        Minhas Micro Brewery   \n",
       "1  AjEbIBw6ZFfln7ePHha9PA         CK'S BBQ & Catering   \n",
       "2  O8S5hYJ1SMc8fA4QBtVujA               La Bastringue   \n",
       "4  8USyCYqpScwiNEb58Bt6CA               Action Engine   \n",
       "5  45bWSZtniwPRiqlivpS8Og  The Coffee Bean & Tea Leaf   \n",
       "\n",
       "                neighborhood                          address       city  \\\n",
       "0                                           1314 44 Avenue NE    Calgary   \n",
       "1                                                              Henderson   \n",
       "2  Rosemont-La Petite-Patrie              1335 rue Beaubien E   Montréal   \n",
       "4                                         2005 Alyth Place SE    Calgary   \n",
       "5                             20235 N Cave Creek Rd, Ste 1115    Phoenix   \n",
       "\n",
       "   state postal_code   latitude   longitude  stars  review_count  is_open  \\\n",
       "0      2     T2E 6L6  51.091813 -114.031675    4.0            24        1   \n",
       "1     31       89002  35.960734 -114.939821    4.5             3        0   \n",
       "2     40     H2G 1K7  45.540503  -73.599300    4.0             5        0   \n",
       "4      2     T2H 0N5  51.035591 -114.027366    2.0             4        1   \n",
       "5      6       85024  33.671375 -112.030017    4.0            63        1   \n",
       "\n",
       "                                          attributes  \\\n",
       "0  {'BikeParking': 'False', 'BusinessAcceptsCredi...   \n",
       "1  {'Alcohol': 'none', 'BikeParking': 'False', 'B...   \n",
       "2  {'Alcohol': 'beer_and_wine', 'Ambience': '{'ro...   \n",
       "4             {'BusinessAcceptsCreditCards': 'True'}   \n",
       "5  {'BikeParking': 'True', 'BusinessAcceptsCredit...   \n",
       "\n",
       "                                          categories  \\\n",
       "0  Tours, Breweries, Pizza, Restaurants, Food, Ho...   \n",
       "1  Chicken Wings, Burgers, Caterers, Street Vendo...   \n",
       "2  Breakfast & Brunch, Restaurants, French, Sandw...   \n",
       "4  Home & Garden, Nurseries & Gardening, Shopping...   \n",
       "5                                 Coffee & Tea, Food   \n",
       "\n",
       "                                               hours  rating_type  \n",
       "0  {'Monday': '8:30-17:0', 'Tuesday': '11:0-21:0'...            2  \n",
       "1  {'Friday': '17:0-23:0', 'Saturday': '17:0-23:0...            2  \n",
       "2  {'Monday': '10:0-22:0', 'Tuesday': '10:0-22:0'...            2  \n",
       "4  {'Monday': '8:0-17:0', 'Tuesday': '8:0-17:0', ...            1  \n",
       "5  {'Monday': '5:30-20:0', 'Tuesday': '5:30-20:0'...            2  "
      ]
     },
     "execution_count": 22,
     "metadata": {},
     "output_type": "execute_result"
    }
   ],
   "source": [
    "from sklearn.preprocessing import LabelEncoder\n",
    "\n",
    "# coverting categorical features to numericals with LabelEncoder\n",
    "categorical = ['state', 'rating_type']\n",
    "le = sklearn.preprocessing.LabelEncoder()\n",
    "\n",
    "for column in categorical:\n",
    "    b_data_copy[column] = le.fit_transform(b_data_copy[column])\n",
    "\n",
    "b_data_copy.head()"
   ]
  },
  {
   "cell_type": "code",
   "execution_count": 23,
   "metadata": {},
   "outputs": [
    {
     "data": {
      "text/plain": [
       "Index(['business_id', 'name', 'neighborhood', 'address', 'city', 'state',\n",
       "       'postal_code', 'latitude', 'longitude', 'stars', 'review_count',\n",
       "       'is_open', 'attributes', 'categories', 'hours', 'rating_type'],\n",
       "      dtype='object')"
      ]
     },
     "execution_count": 23,
     "metadata": {},
     "output_type": "execute_result"
    }
   ],
   "source": [
    "b_data_copy.columns"
   ]
  },
  {
   "cell_type": "code",
   "execution_count": 24,
   "metadata": {},
   "outputs": [
    {
     "data": {
      "text/plain": [
       "((127442, 6), (127442,))"
      ]
     },
     "execution_count": 24,
     "metadata": {},
     "output_type": "execute_result"
    }
   ],
   "source": [
    "X = b_data_copy[['state', 'latitude', 'longitude', 'stars', 'review_count', 'is_open']]\n",
    "y = b_data_copy['rating_type']\n",
    "X.shape, y.shape\n"
   ]
  },
  {
   "cell_type": "code",
   "execution_count": 25,
   "metadata": {},
   "outputs": [],
   "source": [
    "ML_Model = []\n",
    "r2 = []\n",
    "mse = []\n",
    "rmse = []\n",
    "\n",
    "def final_result(model, a,b,c,):\n",
    "    ML_Model.append(model)\n",
    "    r2.append(round(a, 3))\n",
    "    mse.append(round(b, 3))\n",
    "    rmse.append(round(c, 3))"
   ]
  },
  {
   "cell_type": "code",
   "execution_count": 26,
   "metadata": {},
   "outputs": [
    {
     "data": {
      "text/plain": [
       "Index(['state', 'latitude', 'longitude', 'stars', 'review_count', 'is_open'], dtype='object')"
      ]
     },
     "execution_count": 26,
     "metadata": {},
     "output_type": "execute_result"
    }
   ],
   "source": [
    "X.columns"
   ]
  },
  {
   "cell_type": "code",
   "execution_count": 27,
   "metadata": {},
   "outputs": [
    {
     "name": "stderr",
     "output_type": "stream",
     "text": [
      "C:\\Users\\LENOVO\\anaconda3\\lib\\site-packages\\pandas\\core\\frame.py:3673: SettingWithCopyWarning: \n",
      "A value is trying to be set on a copy of a slice from a DataFrame.\n",
      "Try using .loc[row_indexer,col_indexer] = value instead\n",
      "\n",
      "See the caveats in the documentation: https://pandas.pydata.org/pandas-docs/stable/user_guide/indexing.html#returning-a-view-versus-a-copy\n",
      "  self[col] = igetitem(value, i)\n"
     ]
    }
   ],
   "source": [
    "from sklearn.preprocessing import StandardScaler\n",
    "\n",
    "scaler = StandardScaler()\n",
    "\n",
    "X[['state', 'latitude', 'longitude', 'stars', 'review_count', 'is_open']] = scaler.fit_transform(X[['state', 'latitude', 'longitude', 'stars', 'review_count', 'is_open']])"
   ]
  },
  {
   "cell_type": "code",
   "execution_count": 28,
   "metadata": {},
   "outputs": [
    {
     "data": {
      "text/plain": [
       "((101953, 6), (25489, 6))"
      ]
     },
     "execution_count": 28,
     "metadata": {},
     "output_type": "execute_result"
    }
   ],
   "source": [
    "from sklearn.model_selection import train_test_split\n",
    "\n",
    "X_train, X_test, y_train, y_test = train_test_split(X, y, test_size = 0.2, random_state = 12)\n",
    "X_train.shape, X_test.shape"
   ]
  },
  {
   "cell_type": "code",
   "execution_count": 29,
   "metadata": {},
   "outputs": [],
   "source": [
    "from sklearn.model_selection import train_test_split\n",
    "from sklearn.linear_model import LogisticRegression\n",
    "from sklearn.ensemble import RandomForestClassifier\n",
    "from sklearn.svm import SVC\n",
    "from sklearn.naive_bayes import GaussianNB\n",
    "from sklearn.metrics import r2_score, mean_squared_error\n",
    "from sklearn.metrics import accuracy_score\n",
    "\n",
    "ML_Model = []\n",
    "r2 = []\n",
    "mse = []\n",
    "rmse = []\n",
    "\n",
    "def Final_result(model, a,b,c,):\n",
    "    ML_Model.append(model)\n",
    "    r2.append(round(a, 3))\n",
    "    mse.append(round(b, 3))\n",
    "    rmse.append(round(c, 3))"
   ]
  },
  {
   "cell_type": "code",
   "execution_count": 30,
   "metadata": {},
   "outputs": [
    {
     "name": "stdout",
     "output_type": "stream",
     "text": [
      "Random Forest accuracy:  1.0\n"
     ]
    },
    {
     "data": {
      "text/html": [
       "<div>\n",
       "<style scoped>\n",
       "    .dataframe tbody tr th:only-of-type {\n",
       "        vertical-align: middle;\n",
       "    }\n",
       "\n",
       "    .dataframe tbody tr th {\n",
       "        vertical-align: top;\n",
       "    }\n",
       "\n",
       "    .dataframe thead th {\n",
       "        text-align: right;\n",
       "    }\n",
       "</style>\n",
       "<table border=\"1\" class=\"dataframe\">\n",
       "  <thead>\n",
       "    <tr style=\"text-align: right;\">\n",
       "      <th></th>\n",
       "      <th>Actual</th>\n",
       "      <th>Predict</th>\n",
       "    </tr>\n",
       "  </thead>\n",
       "  <tbody>\n",
       "    <tr>\n",
       "      <th>170617</th>\n",
       "      <td>0</td>\n",
       "      <td>0</td>\n",
       "    </tr>\n",
       "    <tr>\n",
       "      <th>83614</th>\n",
       "      <td>0</td>\n",
       "      <td>0</td>\n",
       "    </tr>\n",
       "    <tr>\n",
       "      <th>91044</th>\n",
       "      <td>0</td>\n",
       "      <td>0</td>\n",
       "    </tr>\n",
       "    <tr>\n",
       "      <th>35123</th>\n",
       "      <td>0</td>\n",
       "      <td>0</td>\n",
       "    </tr>\n",
       "    <tr>\n",
       "      <th>154425</th>\n",
       "      <td>0</td>\n",
       "      <td>0</td>\n",
       "    </tr>\n",
       "    <tr>\n",
       "      <th>27453</th>\n",
       "      <td>2</td>\n",
       "      <td>2</td>\n",
       "    </tr>\n",
       "    <tr>\n",
       "      <th>19844</th>\n",
       "      <td>2</td>\n",
       "      <td>2</td>\n",
       "    </tr>\n",
       "    <tr>\n",
       "      <th>50003</th>\n",
       "      <td>1</td>\n",
       "      <td>1</td>\n",
       "    </tr>\n",
       "    <tr>\n",
       "      <th>51220</th>\n",
       "      <td>1</td>\n",
       "      <td>1</td>\n",
       "    </tr>\n",
       "    <tr>\n",
       "      <th>20535</th>\n",
       "      <td>0</td>\n",
       "      <td>0</td>\n",
       "    </tr>\n",
       "  </tbody>\n",
       "</table>\n",
       "</div>"
      ],
      "text/plain": [
       "        Actual  Predict\n",
       "170617       0        0\n",
       "83614        0        0\n",
       "91044        0        0\n",
       "35123        0        0\n",
       "154425       0        0\n",
       "27453        2        2\n",
       "19844        2        2\n",
       "50003        1        1\n",
       "51220        1        1\n",
       "20535        0        0"
      ]
     },
     "metadata": {},
     "output_type": "display_data"
    }
   ],
   "source": [
    "rf = RandomForestClassifier()\n",
    "rf.fit(X_train, y_train)\n",
    "y_pred_rf = rf.predict(X_test)\n",
    "acc_rf = accuracy_score(y_test, y_pred_rf)\n",
    "print(\"Random Forest accuracy: \", acc_rf)\n",
    "rf_df = pd.DataFrame({\"Actual\": y_test, \"Predict\": y_pred_rf})\n",
    "display(rf_df.head(10))"
   ]
  },
  {
   "cell_type": "code",
   "execution_count": 31,
   "metadata": {},
   "outputs": [
    {
     "name": "stdout",
     "output_type": "stream",
     "text": [
      "Random Forest R2 Score: 1.0 \n",
      "Random Forest MSE: 0.0, \n",
      "Random Forest RMSE:0.0\n"
     ]
    }
   ],
   "source": [
    "forest_r2 = r2_score(y_test, y_pred_rf)\n",
    "forest_mse = mean_squared_error(y_test, y_pred_rf)\n",
    "forest_rmse = np.sqrt(forest_mse)\n",
    "print('Random Forest R2 Score: {0} \\nRandom Forest MSE: {1}, \\nRandom Forest RMSE:{2}'.format(forest_r2, forest_mse, forest_rmse))"
   ]
  },
  {
   "cell_type": "code",
   "execution_count": 32,
   "metadata": {},
   "outputs": [],
   "source": [
    "Final_result('Random Forest', forest_r2, forest_mse, forest_rmse)"
   ]
  },
  {
   "cell_type": "code",
   "execution_count": 33,
   "metadata": {},
   "outputs": [
    {
     "name": "stdout",
     "output_type": "stream",
     "text": [
      "Naive Bayes accuracy:  0.9978422064419946\n"
     ]
    },
    {
     "data": {
      "text/html": [
       "<div>\n",
       "<style scoped>\n",
       "    .dataframe tbody tr th:only-of-type {\n",
       "        vertical-align: middle;\n",
       "    }\n",
       "\n",
       "    .dataframe tbody tr th {\n",
       "        vertical-align: top;\n",
       "    }\n",
       "\n",
       "    .dataframe thead th {\n",
       "        text-align: right;\n",
       "    }\n",
       "</style>\n",
       "<table border=\"1\" class=\"dataframe\">\n",
       "  <thead>\n",
       "    <tr style=\"text-align: right;\">\n",
       "      <th></th>\n",
       "      <th>Actual</th>\n",
       "      <th>Predict</th>\n",
       "    </tr>\n",
       "  </thead>\n",
       "  <tbody>\n",
       "    <tr>\n",
       "      <th>170617</th>\n",
       "      <td>0</td>\n",
       "      <td>0</td>\n",
       "    </tr>\n",
       "    <tr>\n",
       "      <th>83614</th>\n",
       "      <td>0</td>\n",
       "      <td>0</td>\n",
       "    </tr>\n",
       "    <tr>\n",
       "      <th>91044</th>\n",
       "      <td>0</td>\n",
       "      <td>0</td>\n",
       "    </tr>\n",
       "    <tr>\n",
       "      <th>35123</th>\n",
       "      <td>0</td>\n",
       "      <td>0</td>\n",
       "    </tr>\n",
       "    <tr>\n",
       "      <th>154425</th>\n",
       "      <td>0</td>\n",
       "      <td>0</td>\n",
       "    </tr>\n",
       "    <tr>\n",
       "      <th>27453</th>\n",
       "      <td>2</td>\n",
       "      <td>2</td>\n",
       "    </tr>\n",
       "    <tr>\n",
       "      <th>19844</th>\n",
       "      <td>2</td>\n",
       "      <td>2</td>\n",
       "    </tr>\n",
       "    <tr>\n",
       "      <th>50003</th>\n",
       "      <td>1</td>\n",
       "      <td>1</td>\n",
       "    </tr>\n",
       "    <tr>\n",
       "      <th>51220</th>\n",
       "      <td>1</td>\n",
       "      <td>1</td>\n",
       "    </tr>\n",
       "    <tr>\n",
       "      <th>20535</th>\n",
       "      <td>0</td>\n",
       "      <td>0</td>\n",
       "    </tr>\n",
       "  </tbody>\n",
       "</table>\n",
       "</div>"
      ],
      "text/plain": [
       "        Actual  Predict\n",
       "170617       0        0\n",
       "83614        0        0\n",
       "91044        0        0\n",
       "35123        0        0\n",
       "154425       0        0\n",
       "27453        2        2\n",
       "19844        2        2\n",
       "50003        1        1\n",
       "51220        1        1\n",
       "20535        0        0"
      ]
     },
     "metadata": {},
     "output_type": "display_data"
    }
   ],
   "source": [
    "h = GaussianNB()\n",
    "h.fit(X_train, y_train)\n",
    "y_pred_h = h.predict(X_test)\n",
    "acc_h = accuracy_score(y_test, y_pred_h)\n",
    "print(\"Naive Bayes accuracy: \", acc_h)\n",
    "nb_df = pd.DataFrame({\"Actual\": y_test, \"Predict\": y_pred_h})\n",
    "display(nb_df.head(10))"
   ]
  },
  {
   "cell_type": "code",
   "execution_count": 34,
   "metadata": {},
   "outputs": [
    {
     "name": "stdout",
     "output_type": "stream",
     "text": [
      "Naive Bayes R2 Score: 0.9915292631976799 \n",
      "Naive Bayes MSE: 0.006748008945035113, \n",
      "RNaive Bayes RMSE:0.08214626555745011\n"
     ]
    }
   ],
   "source": [
    "h_r2 = r2_score(y_test, y_pred_h)\n",
    "h_mse = mean_squared_error(y_test, y_pred_h)\n",
    "h_rmse = np.sqrt(h_mse)\n",
    "print('Naive Bayes R2 Score: {0} \\nNaive Bayes MSE: {1}, \\nRNaive Bayes RMSE:{2}'.format(h_r2, h_mse, h_rmse))"
   ]
  },
  {
   "cell_type": "code",
   "execution_count": 35,
   "metadata": {},
   "outputs": [],
   "source": [
    "Final_result('Naive Bayes', h_r2, h_mse, h_rmse)"
   ]
  },
  {
   "cell_type": "code",
   "execution_count": 36,
   "metadata": {},
   "outputs": [
    {
     "name": "stdout",
     "output_type": "stream",
     "text": [
      "Support Vector Machines accuracy:  0.9996076738985444\n"
     ]
    },
    {
     "data": {
      "text/html": [
       "<div>\n",
       "<style scoped>\n",
       "    .dataframe tbody tr th:only-of-type {\n",
       "        vertical-align: middle;\n",
       "    }\n",
       "\n",
       "    .dataframe tbody tr th {\n",
       "        vertical-align: top;\n",
       "    }\n",
       "\n",
       "    .dataframe thead th {\n",
       "        text-align: right;\n",
       "    }\n",
       "</style>\n",
       "<table border=\"1\" class=\"dataframe\">\n",
       "  <thead>\n",
       "    <tr style=\"text-align: right;\">\n",
       "      <th></th>\n",
       "      <th>Actual</th>\n",
       "      <th>Predict</th>\n",
       "    </tr>\n",
       "  </thead>\n",
       "  <tbody>\n",
       "    <tr>\n",
       "      <th>170617</th>\n",
       "      <td>0</td>\n",
       "      <td>0</td>\n",
       "    </tr>\n",
       "    <tr>\n",
       "      <th>83614</th>\n",
       "      <td>0</td>\n",
       "      <td>0</td>\n",
       "    </tr>\n",
       "    <tr>\n",
       "      <th>91044</th>\n",
       "      <td>0</td>\n",
       "      <td>0</td>\n",
       "    </tr>\n",
       "    <tr>\n",
       "      <th>35123</th>\n",
       "      <td>0</td>\n",
       "      <td>0</td>\n",
       "    </tr>\n",
       "    <tr>\n",
       "      <th>154425</th>\n",
       "      <td>0</td>\n",
       "      <td>0</td>\n",
       "    </tr>\n",
       "    <tr>\n",
       "      <th>...</th>\n",
       "      <td>...</td>\n",
       "      <td>...</td>\n",
       "    </tr>\n",
       "    <tr>\n",
       "      <th>11735</th>\n",
       "      <td>2</td>\n",
       "      <td>2</td>\n",
       "    </tr>\n",
       "    <tr>\n",
       "      <th>153578</th>\n",
       "      <td>2</td>\n",
       "      <td>2</td>\n",
       "    </tr>\n",
       "    <tr>\n",
       "      <th>23736</th>\n",
       "      <td>0</td>\n",
       "      <td>0</td>\n",
       "    </tr>\n",
       "    <tr>\n",
       "      <th>159142</th>\n",
       "      <td>0</td>\n",
       "      <td>0</td>\n",
       "    </tr>\n",
       "    <tr>\n",
       "      <th>50606</th>\n",
       "      <td>2</td>\n",
       "      <td>2</td>\n",
       "    </tr>\n",
       "  </tbody>\n",
       "</table>\n",
       "<p>25489 rows × 2 columns</p>\n",
       "</div>"
      ],
      "text/plain": [
       "        Actual  Predict\n",
       "170617       0        0\n",
       "83614        0        0\n",
       "91044        0        0\n",
       "35123        0        0\n",
       "154425       0        0\n",
       "...        ...      ...\n",
       "11735        2        2\n",
       "153578       2        2\n",
       "23736        0        0\n",
       "159142       0        0\n",
       "50606        2        2\n",
       "\n",
       "[25489 rows x 2 columns]"
      ]
     },
     "metadata": {},
     "output_type": "display_data"
    }
   ],
   "source": [
    "#Support Vector machines\n",
    "svm = SVC()\n",
    "svm.fit(X_train, y_train)\n",
    "y_pred_svm = svm.predict(X_test)\n",
    "acc_svm = accuracy_score(y_test, y_pred_svm)\n",
    "print(\"Support Vector Machines accuracy: \", acc_svm)\n",
    "svm_df = pd.DataFrame({\"Actual\": y_test, \"Predict\": y_pred_svm})\n",
    "display(svm_df)"
   ]
  },
  {
   "cell_type": "code",
   "execution_count": 37,
   "metadata": {},
   "outputs": [
    {
     "name": "stdout",
     "output_type": "stream",
     "text": [
      "Support Vector Machines R2 Score: 0.9990642790741623 \n",
      "Support Vector Machines MSE: 0.0007454195927655067, \n",
      "Support Vector Machines RMSE:0.027302373390705553\n"
     ]
    }
   ],
   "source": [
    "svm_r2 = r2_score(y_test, y_pred_svm)\n",
    "svm_mse = mean_squared_error(y_test, y_pred_svm)\n",
    "svm_rmse = np.sqrt(svm_mse)\n",
    "print('Support Vector Machines R2 Score: {0} \\nSupport Vector Machines MSE: {1}, \\nSupport Vector Machines RMSE:{2}'.format(svm_r2, svm_mse, svm_rmse))"
   ]
  },
  {
   "cell_type": "code",
   "execution_count": 38,
   "metadata": {},
   "outputs": [],
   "source": [
    "Final_result('Support Vector Machines', svm_r2, svm_mse, svm_rmse)"
   ]
  },
  {
   "cell_type": "markdown",
   "metadata": {
    "id": "-EKH65Yn1Sdh"
   },
   "source": [
    "# Results: summarize and visualize the results discovered from the analysis\n",
    "\n",
    "Please use figures or tables to present the results.\n"
   ]
  },
  {
   "cell_type": "code",
   "execution_count": 39,
   "metadata": {
    "id": "ShAIRklE1Sdh"
   },
   "outputs": [
    {
     "data": {
      "text/html": [
       "<div>\n",
       "<style scoped>\n",
       "    .dataframe tbody tr th:only-of-type {\n",
       "        vertical-align: middle;\n",
       "    }\n",
       "\n",
       "    .dataframe tbody tr th {\n",
       "        vertical-align: top;\n",
       "    }\n",
       "\n",
       "    .dataframe thead th {\n",
       "        text-align: right;\n",
       "    }\n",
       "</style>\n",
       "<table border=\"1\" class=\"dataframe\">\n",
       "  <thead>\n",
       "    <tr style=\"text-align: right;\">\n",
       "      <th></th>\n",
       "      <th>Mean Sq Error</th>\n",
       "      <th>ML Model</th>\n",
       "      <th>RMSE</th>\n",
       "      <th>R2 Score</th>\n",
       "    </tr>\n",
       "  </thead>\n",
       "  <tbody>\n",
       "    <tr>\n",
       "      <th>0</th>\n",
       "      <td>0.000</td>\n",
       "      <td>Random Forest</td>\n",
       "      <td>0.000</td>\n",
       "      <td>1.000</td>\n",
       "    </tr>\n",
       "    <tr>\n",
       "      <th>1</th>\n",
       "      <td>0.007</td>\n",
       "      <td>Naive Bayes</td>\n",
       "      <td>0.082</td>\n",
       "      <td>0.992</td>\n",
       "    </tr>\n",
       "    <tr>\n",
       "      <th>2</th>\n",
       "      <td>0.001</td>\n",
       "      <td>Support Vector Machines</td>\n",
       "      <td>0.027</td>\n",
       "      <td>0.999</td>\n",
       "    </tr>\n",
       "  </tbody>\n",
       "</table>\n",
       "</div>"
      ],
      "text/plain": [
       "   Mean Sq Error                 ML Model   RMSE  R2 Score\n",
       "0          0.000            Random Forest  0.000     1.000\n",
       "1          0.007              Naive Bayes  0.082     0.992\n",
       "2          0.001  Support Vector Machines  0.027     0.999"
      ]
     },
     "execution_count": 39,
     "metadata": {},
     "output_type": "execute_result"
    }
   ],
   "source": [
    "\n",
    "compare = pd.DataFrame({'Mean Sq Error': mse,'ML Model': ML_Model,'RMSE': rmse,'R2 Score': r2,})\n",
    "compare"
   ]
  },
  {
   "cell_type": "code",
   "execution_count": null,
   "metadata": {},
   "outputs": [],
   "source": []
  },
  {
   "cell_type": "markdown",
   "metadata": {
    "id": "Ce_2EH8k1Sdh"
   },
   "source": [
    "*-----------------\n",
    "# Done\n"
   ]
  }
 ],
 "metadata": {
  "colab": {
   "provenance": []
  },
  "kernelspec": {
   "display_name": "Python 3",
   "language": "python",
   "name": "python3"
  },
  "language_info": {
   "codemirror_mode": {
    "name": "ipython",
    "version": 3
   },
   "file_extension": ".py",
   "mimetype": "text/x-python",
   "name": "python",
   "nbconvert_exporter": "python",
   "pygments_lexer": "ipython3",
   "version": "3.8.8"
  }
 },
 "nbformat": 4,
 "nbformat_minor": 1
}
